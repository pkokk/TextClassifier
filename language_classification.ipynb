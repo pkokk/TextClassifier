{
 "cells": [
  {
   "cell_type": "markdown",
   "metadata": {
    "slideshow": {
     "slide_type": "slide"
    }
   },
   "source": [
    "\n",
    "## Text classification\n",
    "\n",
    "* Language classification example\n",
    "* Using `scikit-learn` and `pandas`"
   ]
  },
  {
   "cell_type": "markdown",
   "metadata": {
    "slideshow": {
     "slide_type": "slide"
    }
   },
   "source": [
    "## Basic problem\n",
    "\n",
    "* Find the language of a document. "
   ]
  },
  {
   "cell_type": "code",
   "execution_count": 1,
   "metadata": {
    "collapsed": false,
    "slideshow": {
     "slide_type": "fragment"
    }
   },
   "outputs": [
    {
     "name": "stdout",
     "output_type": "stream",
     "text": [
      "Populating the interactive namespace from numpy and matplotlib\n"
     ]
    }
   ],
   "source": [
    "import pandas as pd\n",
    "import seaborn as sns\n",
    "\n",
    "%pylab inline\n",
    "\n",
    "pd.options.display.max_colwidth = 500"
   ]
  },
  {
   "cell_type": "code",
   "execution_count": 9,
   "metadata": {
    "collapsed": false,
    "slideshow": {
     "slide_type": "skip"
    }
   },
   "outputs": [],
   "source": [
    "import os\n",
    "\n",
    "fd = './datasets'\n",
    "lang_files = [os.path.join(fd, f) for f in os.listdir(fd) if 'sentences' in f]\n",
    "records = list()\n",
    "    \n",
    "for fn in lang_files:\n",
    "    \n",
    "    lang = fn.split('\\\\')[-1].split('_')[0]\n",
    "    with open(fn) as f:\n",
    "        for line in f:\n",
    "            index, txt = line.strip().split('\\t', 1)\n",
    "            records.append({\n",
    "                \"lang\": lang,\n",
    "                \"txt\": txt\n",
    "            })\n",
    "\n",
    "lang_df = pd.DataFrame(records)"
   ]
  },
  {
   "cell_type": "code",
   "execution_count": 10,
   "metadata": {
    "collapsed": false,
    "slideshow": {
     "slide_type": "subslide"
    }
   },
   "outputs": [
    {
     "data": {
      "text/html": [
       "<div>\n",
       "<table border=\"1\" class=\"dataframe\">\n",
       "  <thead>\n",
       "    <tr style=\"text-align: right;\">\n",
       "      <th></th>\n",
       "      <th>lang</th>\n",
       "      <th>txt</th>\n",
       "    </tr>\n",
       "  </thead>\n",
       "  <tbody>\n",
       "    <tr>\n",
       "      <th>8727</th>\n",
       "      <td>eng</td>\n",
       "      <td>\"You can argue we're sending the wrong people to prison, but not under the current system.</td>\n",
       "    </tr>\n",
       "    <tr>\n",
       "      <th>14530</th>\n",
       "      <td>fra</td>\n",
       "      <td>Les enchaînements sont assurés par un thème exposé demblée et qui revient ensuite à plusieurs reprises, comme la «Promenade» des Tableaux dune exposition de Moussorgski.</td>\n",
       "    </tr>\n",
       "    <tr>\n",
       "      <th>18015</th>\n",
       "      <td>fra</td>\n",
       "      <td>Il n´a pas réussi à infléchir la politique de la Russie envers l´Iran et le Hamas, et n´a pas non plus convaincu les Européens d´approfondir leurs relations avec son pays.</td>\n",
       "    </tr>\n",
       "    <tr>\n",
       "      <th>23843</th>\n",
       "      <td>nld</td>\n",
       "      <td>Heeft u een eigen huis dat voor 1985 is gebouwd?</td>\n",
       "    </tr>\n",
       "    <tr>\n",
       "      <th>21320</th>\n",
       "      <td>nld</td>\n",
       "      <td>Biografie Sparxxx groeide eenzaam op: zijn ouderlijk huis stond vrij afgezonderd van de buitenwereld in het platteland van Georgia.</td>\n",
       "    </tr>\n",
       "    <tr>\n",
       "      <th>23463</th>\n",
       "      <td>nld</td>\n",
       "      <td>De heer Hatzman geeft aan dat er volgende week een overleg is tussen de colleges van Zutphen en Warnsveld en dan zal deze kwestie aan de orde komen.</td>\n",
       "    </tr>\n",
       "    <tr>\n",
       "      <th>11908</th>\n",
       "      <td>fra</td>\n",
       "      <td>OTTAWA - L'inflation annuelle a glissé à son plus bas niveau en près de 15 ans le mois dernier, mais la plupart des consommateurs canadiens auront l'impression que ces statistiques sont, au mieux, légèrement trompeuses.</td>\n",
       "    </tr>\n",
       "    <tr>\n",
       "      <th>7982</th>\n",
       "      <td>eng</td>\n",
       "      <td>Gov. Kathleen Blanco is trying to rework the team's incentives from the state.</td>\n",
       "    </tr>\n",
       "    <tr>\n",
       "      <th>523</th>\n",
       "      <td>eng</td>\n",
       "      <td>If third-generation iPods last for four hours or less on a full charge, they are deemed defective.</td>\n",
       "    </tr>\n",
       "    <tr>\n",
       "      <th>16230</th>\n",
       "      <td>fra</td>\n",
       "      <td>Mais ces Bobcats-là ont vraiment un truc en plus.</td>\n",
       "    </tr>\n",
       "  </tbody>\n",
       "</table>\n",
       "</div>"
      ],
      "text/plain": [
       "      lang  \\\n",
       "8727   eng   \n",
       "14530  fra   \n",
       "18015  fra   \n",
       "23843  nld   \n",
       "21320  nld   \n",
       "23463  nld   \n",
       "11908  fra   \n",
       "7982   eng   \n",
       "523    eng   \n",
       "16230  fra   \n",
       "\n",
       "                                                                                                                                                                                                                               txt  \n",
       "8727                                                                                                                                    \"You can argue we're sending the wrong people to prison, but not under the current system.  \n",
       "14530                                                  Les enchaînements sont assurés par un thème exposé demblée et qui revient ensuite à plusieurs reprises, comme la «Promenade» des Tableaux dune exposition de Moussorgski.  \n",
       "18015                                                  Il n´a pas réussi à infléchir la politique de la Russie envers l´Iran et le Hamas, et n´a pas non plus convaincu les Européens d´approfondir leurs relations avec son pays.  \n",
       "23843                                                                                                                                                                             Heeft u een eigen huis dat voor 1985 is gebouwd?  \n",
       "21320                                                                                          Biografie Sparxxx groeide eenzaam op: zijn ouderlijk huis stond vrij afgezonderd van de buitenwereld in het platteland van Georgia.  \n",
       "23463                                                                         De heer Hatzman geeft aan dat er volgende week een overleg is tussen de colleges van Zutphen en Warnsveld en dan zal deze kwestie aan de orde komen.  \n",
       "11908  OTTAWA - L'inflation annuelle a glissé à son plus bas niveau en près de 15 ans le mois dernier, mais la plupart des consommateurs canadiens auront l'impression que ces statistiques sont, au mieux, légèrement trompeuses.  \n",
       "7982                                                                                                                                                Gov. Kathleen Blanco is trying to rework the team's incentives from the state.  \n",
       "523                                                                                                                             If third-generation iPods last for four hours or less on a full charge, they are deemed defective.  \n",
       "16230                                                                                                                                                                            Mais ces Bobcats-là ont vraiment un truc en plus.  "
      ]
     },
     "execution_count": 10,
     "metadata": {},
     "output_type": "execute_result"
    }
   ],
   "source": [
    "lang_df.sample(10)"
   ]
  },
  {
   "cell_type": "code",
   "execution_count": 11,
   "metadata": {
    "collapsed": false,
    "slideshow": {
     "slide_type": "subslide"
    }
   },
   "outputs": [
    {
     "data": {
      "text/plain": [
       "nld    10000\n",
       "fra    10000\n",
       "eng    10000\n",
       "Name: lang, dtype: int64"
      ]
     },
     "execution_count": 11,
     "metadata": {},
     "output_type": "execute_result"
    }
   ],
   "source": [
    "df = lang_df\n",
    "\n",
    "df.lang.value_counts()"
   ]
  },
  {
   "cell_type": "code",
   "execution_count": 13,
   "metadata": {
    "collapsed": false,
    "slideshow": {
     "slide_type": "subslide"
    }
   },
   "outputs": [
    {
     "data": {
      "text/html": [
       "<div>\n",
       "<table border=\"1\" class=\"dataframe\">\n",
       "  <thead>\n",
       "    <tr style=\"text-align: right;\">\n",
       "      <th></th>\n",
       "      <th>lang</th>\n",
       "      <th>txt</th>\n",
       "      <th>count_e</th>\n",
       "      <th>count_g</th>\n",
       "      <th>count_c</th>\n",
       "    </tr>\n",
       "  </thead>\n",
       "  <tbody>\n",
       "    <tr>\n",
       "      <th>4697</th>\n",
       "      <td>eng</td>\n",
       "      <td>The first confessed: \"I have a terrible gambling problem.</td>\n",
       "      <td>7</td>\n",
       "      <td>2</td>\n",
       "      <td>1</td>\n",
       "    </tr>\n",
       "    <tr>\n",
       "      <th>28492</th>\n",
       "      <td>nld</td>\n",
       "      <td>Rik Hovingh dook in de geschiedenis en stuitte op unieke oude beelden uit die tijd.</td>\n",
       "      <td>13</td>\n",
       "      <td>2</td>\n",
       "      <td>1</td>\n",
       "    </tr>\n",
       "    <tr>\n",
       "      <th>13360</th>\n",
       "      <td>fra</td>\n",
       "      <td>La nouveautÃ© du calendrier interviendra le 10 mai avec le tournoi 1000 de Madrid qui remplace le Masters de Hambourg.</td>\n",
       "      <td>14</td>\n",
       "      <td>1</td>\n",
       "      <td>3</td>\n",
       "    </tr>\n",
       "    <tr>\n",
       "      <th>17138</th>\n",
       "      <td>fra</td>\n",
       "      <td>Les personnes âgées de 45 à 54 ans sont les plus adeptes des écrans, avec une consommation moyenne de plus de neuf heures et demie par jour.</td>\n",
       "      <td>21</td>\n",
       "      <td>1</td>\n",
       "      <td>3</td>\n",
       "    </tr>\n",
       "    <tr>\n",
       "      <th>6927</th>\n",
       "      <td>eng</td>\n",
       "      <td>SAN JUAN, Puerto Rico May 10, 2005 â€” A migrant adrift at sea with 66 others on Tuesday called 911 and guided a U.S. helicopter to their boat, an official said.</td>\n",
       "      <td>9</td>\n",
       "      <td>2</td>\n",
       "      <td>4</td>\n",
       "    </tr>\n",
       "  </tbody>\n",
       "</table>\n",
       "</div>"
      ],
      "text/plain": [
       "      lang  \\\n",
       "4697   eng   \n",
       "28492  nld   \n",
       "13360  fra   \n",
       "17138  fra   \n",
       "6927   eng   \n",
       "\n",
       "                                                                                                                                                                     txt  \\\n",
       "4697                                                                                                           The first confessed: \"I have a terrible gambling problem.   \n",
       "28492                                                                                Rik Hovingh dook in de geschiedenis en stuitte op unieke oude beelden uit die tijd.   \n",
       "13360                                             La nouveautÃ© du calendrier interviendra le 10 mai avec le tournoi 1000 de Madrid qui remplace le Masters de Hambourg.   \n",
       "17138                       Les personnes âgées de 45 à 54 ans sont les plus adeptes des écrans, avec une consommation moyenne de plus de neuf heures et demie par jour.   \n",
       "6927   SAN JUAN, Puerto Rico May 10, 2005 â€” A migrant adrift at sea with 66 others on Tuesday called 911 and guided a U.S. helicopter to their boat, an official said.   \n",
       "\n",
       "       count_e  count_g  count_c  \n",
       "4697         7        2        1  \n",
       "28492       13        2        1  \n",
       "13360       14        1        3  \n",
       "17138       21        1        3  \n",
       "6927         9        2        4  "
      ]
     },
     "execution_count": 13,
     "metadata": {},
     "output_type": "execute_result"
    }
   ],
   "source": [
    "def get_features(txt, letter):\n",
    "    return txt.count(letter)\n",
    "\n",
    "count_e = df.txt.map(lambda x: get_features(x, letter='e')).rename('count_e')\n",
    "count_c = df.txt.map(lambda x: get_features(x, letter='c')).rename('count_c')\n",
    "count_g = df.txt.map(lambda x: get_features(x, letter='g')).rename('count_g')\n",
    "\n",
    "df = lang_df.join(count_e).join(count_g).join(count_c)\n",
    "df.sample(5)"
   ]
  },
  {
   "cell_type": "code",
   "execution_count": 14,
   "metadata": {
    "collapsed": false,
    "slideshow": {
     "slide_type": "subslide"
    }
   },
   "outputs": [
    {
     "data": {
      "image/png": "[encoded data removed]",
      "text/plain": [
       "<matplotlib.figure.Figure at 0xfacc978>"
      ]
     },
     "metadata": {},
     "output_type": "display_data"
    }
   ],
   "source": [
    "sns.pairplot(df.sample(50), hue='lang');"
   ]
  },
  {
   "cell_type": "code",
   "execution_count": 83,
   "metadata": {
    "collapsed": false,
    "slideshow": {
     "slide_type": "subslide"
    }
   },
   "outputs": [
    {
     "data": {
      "text/plain": [
       "array([[0, 0, 0],\n",
       "       [0, 0, 0],\n",
       "       [0, 0, 0],\n",
       "       [0, 0, 0]], dtype=int64)"
      ]
     },
     "metadata": {},
     "output_type": "display_data"
    },
    {
     "data": {
      "text/plain": [
       "array([1, 1, 0, 0])"
      ]
     },
     "metadata": {},
     "output_type": "display_data"
    }
   ],
   "source": [
    "##### ned_vs_eng = df[df.lang.isin(['nld', 'eng'])]\n",
    "ned_vs_eng = ned_vs_eng[ned_vs_eng.sum(axis=1) > 0]\n",
    "\n",
    "X = ned_vs_eng[[\"count_e\", \"count_g\", \"count_c\"]]\n",
    "\n",
    "X = X.values / X.sum(axis=1).values.reshape(-1, 1)\n",
    "\n",
    "y = (ned_vs_eng.lang == \"eng\").astype(int).values\n",
    "\n",
    "display(X[::5000])\n",
    "display(y[::5000])"
   ]
  },
  {
   "cell_type": "markdown",
   "metadata": {
    "slideshow": {
     "slide_type": "slide"
    }
   },
   "source": [
    "## The `scikit-learn` system"
   ]
  },
  {
   "cell_type": "code",
   "execution_count": 18,
   "metadata": {
    "collapsed": false,
    "slideshow": {
     "slide_type": "subslide"
    }
   },
   "outputs": [
    {
     "data": {
      "image/svg+xml": [
       "<svg content=\"&lt;mxfile userAgent=&quot;Mozilla/5.0 (X11; Linux x86_64) AppleWebKit/537.36 (KHTML, like Gecko) Chrome/53.0.2785.116 Safari/537.36&quot; version=&quot;5.7.0.9&quot; editor=&quot;www.draw.io&quot; type=&quot;device&quot;&gt;&lt;diagram&gt;3VpNc5swEP01vmYAIcDH1knaQzrTmRyanjoyyEYNRh4hx3Z/fYURX5JsExtIXecQWFYfvH37dsGegNlq94WhdfyNRjiZOFa0m4D7iePYlh+If7llX1gCzy8MS0Yi6VQbnskfXI6U1g2JcNZy5JQmnKzbxpCmKQ55y4YYo9u224Im7VXXaIk1w3OIEt36g0Q8lncBrdr+FZNlXK5sW/LKHIWvS0Y3qVxv4oDF4VNcXqFyLumfxSii24YJPEzAjFHKi6PVboaTHNsStmLc45Gr1b4ZTnmXAcCT++D78t5xJKCQp5TxmC5pipKH2vr5cH84n8ESZzFfJeLQFod4R/hL4/hn7nIH87OUs/2LHHE4qa/9xpzvJQfQhlNhqtd9onQtZyx2mm/v6M1KU0Y3LJRejqQPYkssvWAFtCAwpisstiNcGE4QJ2/t2ZFk0rLyq9EUBxJQM7hy6TeUbOSkT2iOk0yDfBsTjp/X6LDnrUipNqwLkiQzmlB28M4J5YShsGec0VfcuBJ5cw96FVRvmHG8Ow2WDoMcUHJdZrBbMnzbyAdpihup4FnX4wbg/05KoJPSHYmUQCPlPeLoFikJRqSkq6H2iBHfMHx1MgchNiM3D6ALrX6Qc6zz0PkDQQcHUsEPAc4kg0MB52nA6bKYRp/ydkechQnKMhIq2ndC4Y7r4mWa5uqaFpixbWAHDdiVts7SJ1f4TonYXhU64CmcB0pMis3LUc0eSZnItdsTVSJTTlTcsjbRIb7VbXcKeaCF/OUXxxm/iVwBjoIT0HPFdgZKlpJ+4/UMdw5sJdXgTcNUTzB7ao5I713D1ERMhkh6k8w0lb/BmFmqxw3r+BGWlej6St5PdXRP6fw7JF1ZCbiXSroqVdPBJN22ewj/RY8wl4UfGlTmyLNJ2SP553ukfuKvrXRp/IFS0is+9B9/Z/SHWaUw2YMXJtsgGaNVJlt/NNvfcGkyJc9wpck3YXer/abrjwmd3qrfnKz7p2U9UOC1B5N1daWLZR2cmajHsq53xEWMFwQzYV8V34kojKh1PY/5+5IqQjhYGJPKCwM8X/STVO5UabHgiEkFbA2xHmpl3SaPUw6rb6wauQacK8uhmfCe244WtLoRXsgS2jfc1rlDdmVKOHqnu2Y4IiEnNNVf912VCxAHkWvKhcCZA6+v982KLo37QmPgx8bu3G7y+Bhi47zScxW6a0B3LRQeODNRj/1/D41C11h9VFyg+s2M2gN0jYs60YBxAY4WF5wfo1yttAidkaeIMHyQufxq3j/rLTHM/4zV+/AZRrFGbYkBGKJ6683xwA+z/j9fvc/qojbRkfw7nzbitP4xSuFe/+IHPPwF&lt;/diagram&gt;&lt;/mxfile&gt;\" height=\"303px\" style=\"background-color: rgb(255, 255, 255);\" version=\"1.1\" width=\"653px\" xmlns=\"http://www.w3.org/2000/svg\" xmlns:xlink=\"http://www.w3.org/1999/xlink\"><defs/><g transform=\"translate(0.5,0.5)\"><path d=\"M 81 201 L 144.63 201\" fill=\"none\" pointer-events=\"none\" stroke=\"#000000\" stroke-miterlimit=\"10\"/><path d=\"M 149.88 201 L 142.88 204.5 L 144.63 201 L 142.88 197.5 Z\" fill=\"#000000\" pointer-events=\"none\" stroke=\"#000000\" stroke-miterlimit=\"10\"/><rect fill=\"#fff2cc\" height=\"60\" pointer-events=\"none\" stroke=\"#d6b656\" width=\"80\" x=\"1\" y=\"171\"/><g transform=\"translate(22.5,194.5)\"><switch><foreignObject height=\"12\" pointer-events=\"all\" requiredFeatures=\"http://www.w3.org/TR/SVG11/feature#Extensibility\" style=\"overflow:visible;\" width=\"36\"><div style=\"display: inline-block; font-size: 12px; font-family: Helvetica; color: rgb(0, 0, 0); line-height: 1.2; vertical-align: top; width: 36px; white-space: nowrap; word-wrap: normal; text-align: center;\" xmlns=\"http://www.w3.org/1999/xhtml\"><div style=\"display:inline-block;text-align:inherit;text-decoration:inherit;\" xmlns=\"http://www.w3.org/1999/xhtml\">Labels</div></div></foreignObject><text fill=\"#000000\" font-family=\"Helvetica\" font-size=\"12px\" text-anchor=\"middle\" x=\"18\" y=\"12\">Labels</text></switch></g><path d=\"M 81 101 L 144.63 101\" fill=\"none\" pointer-events=\"none\" stroke=\"#000000\" stroke-miterlimit=\"10\"/><path d=\"M 149.88 101 L 142.88 104.5 L 144.63 101 L 142.88 97.5 Z\" fill=\"#000000\" pointer-events=\"none\" stroke=\"#000000\" stroke-miterlimit=\"10\"/><rect fill=\"#fff2cc\" height=\"60\" pointer-events=\"none\" stroke=\"#d6b656\" width=\"80\" x=\"1\" y=\"71\"/><g transform=\"translate(27.5,94.5)\"><switch><foreignObject height=\"12\" pointer-events=\"all\" requiredFeatures=\"http://www.w3.org/TR/SVG11/feature#Extensibility\" style=\"overflow:visible;\" width=\"26\"><div style=\"display: inline-block; font-size: 12px; font-family: Helvetica; color: rgb(0, 0, 0); line-height: 1.2; vertical-align: top; width: 26px; white-space: nowrap; word-wrap: normal; text-align: center;\" xmlns=\"http://www.w3.org/1999/xhtml\"><div style=\"display:inline-block;text-align:inherit;text-decoration:inherit;\" xmlns=\"http://www.w3.org/1999/xhtml\">Data</div></div></foreignObject><text fill=\"#000000\" font-family=\"Helvetica\" font-size=\"12px\" text-anchor=\"middle\" x=\"13\" y=\"12\">Data</text></switch></g><rect fill=\"#f8cecc\" height=\"60\" pointer-events=\"none\" stroke=\"#b85450\" width=\"70\" x=\"151\" y=\"71\"/><g transform=\"translate(161.5,94.5)\"><switch><foreignObject height=\"12\" pointer-events=\"all\" requiredFeatures=\"http://www.w3.org/TR/SVG11/feature#Extensibility\" style=\"overflow:visible;\" width=\"48\"><div style=\"display: inline-block; font-size: 12px; font-family: Helvetica; color: rgb(0, 0, 0); line-height: 1.2; vertical-align: top; width: 48px; white-space: nowrap; word-wrap: normal; text-align: center;\" xmlns=\"http://www.w3.org/1999/xhtml\"><div style=\"display:inline-block;text-align:inherit;text-decoration:inherit;\" xmlns=\"http://www.w3.org/1999/xhtml\">Features</div></div></foreignObject><text fill=\"#000000\" font-family=\"Helvetica\" font-size=\"12px\" text-anchor=\"middle\" x=\"24\" y=\"12\">Features</text></switch></g><rect fill=\"#f8cecc\" height=\"60\" pointer-events=\"none\" stroke=\"#b85450\" width=\"70\" x=\"151\" y=\"171\"/><g transform=\"translate(167.5,194.5)\"><switch><foreignObject height=\"12\" pointer-events=\"all\" requiredFeatures=\"http://www.w3.org/TR/SVG11/feature#Extensibility\" style=\"overflow:visible;\" width=\"36\"><div style=\"display: inline-block; font-size: 12px; font-family: Helvetica; color: rgb(0, 0, 0); line-height: 1.2; vertical-align: top; width: 36px; white-space: nowrap; word-wrap: normal; text-align: center;\" xmlns=\"http://www.w3.org/1999/xhtml\"><div style=\"display:inline-block;text-align:inherit;text-decoration:inherit;\" xmlns=\"http://www.w3.org/1999/xhtml\">Labels</div></div></foreignObject><text fill=\"#000000\" font-family=\"Helvetica\" font-size=\"12px\" text-anchor=\"middle\" x=\"18\" y=\"12\">Labels</text></switch></g><path d=\"M 221 101 L 267.3 36.18\" fill=\"none\" pointer-events=\"none\" stroke=\"#000000\" stroke-miterlimit=\"10\"/><path d=\"M 270.35 31.91 L 269.13 39.64 L 267.3 36.18 L 263.43 35.57 Z\" fill=\"#000000\" pointer-events=\"none\" stroke=\"#000000\" stroke-miterlimit=\"10\"/><rect fill=\"#f8cecc\" height=\"60\" pointer-events=\"none\" stroke=\"#b85450\" width=\"120\" x=\"271\" y=\"1\"/><g transform=\"translate(313.5,24.5)\"><switch><foreignObject height=\"12\" pointer-events=\"all\" requiredFeatures=\"http://www.w3.org/TR/SVG11/feature#Extensibility\" style=\"overflow:visible;\" width=\"34\"><div style=\"display: inline-block; font-size: 12px; font-family: Helvetica; color: rgb(0, 0, 0); line-height: 1.2; vertical-align: top; width: 36px; white-space: nowrap; word-wrap: normal; text-align: center;\" xmlns=\"http://www.w3.org/1999/xhtml\"><div style=\"display:inline-block;text-align:inherit;text-decoration:inherit;\" xmlns=\"http://www.w3.org/1999/xhtml\">X_test</div></div></foreignObject><text fill=\"#000000\" font-family=\"Helvetica\" font-size=\"12px\" text-anchor=\"middle\" x=\"17\" y=\"12\">X_test</text></switch></g><path d=\"M 391 101 L 471 101 L 471 114.63\" fill=\"none\" pointer-events=\"none\" stroke=\"#000000\" stroke-miterlimit=\"10\"/><path d=\"M 471 119.88 L 467.5 112.88 L 471 114.63 L 474.5 112.88 Z\" fill=\"#000000\" pointer-events=\"none\" stroke=\"#000000\" stroke-miterlimit=\"10\"/><rect fill=\"#f8cecc\" height=\"60\" pointer-events=\"none\" stroke=\"#b85450\" width=\"120\" x=\"271\" y=\"71\"/><g transform=\"translate(311.5,94.5)\"><switch><foreignObject height=\"12\" pointer-events=\"all\" requiredFeatures=\"http://www.w3.org/TR/SVG11/feature#Extensibility\" style=\"overflow:visible;\" width=\"38\"><div style=\"display: inline-block; font-size: 12px; font-family: Helvetica; color: rgb(0, 0, 0); line-height: 1.2; vertical-align: top; width: 40px; white-space: nowrap; word-wrap: normal; text-align: center;\" xmlns=\"http://www.w3.org/1999/xhtml\"><div style=\"display:inline-block;text-align:inherit;text-decoration:inherit;\" xmlns=\"http://www.w3.org/1999/xhtml\">X_train</div></div></foreignObject><text fill=\"#000000\" font-family=\"Helvetica\" font-size=\"12px\" text-anchor=\"middle\" x=\"19\" y=\"12\">X_train</text></switch></g><path d=\"M 221 101 L 264.63 101\" fill=\"none\" pointer-events=\"none\" stroke=\"#000000\" stroke-miterlimit=\"10\"/><path d=\"M 269.88 101 L 262.88 104.5 L 264.63 101 L 262.88 97.5 Z\" fill=\"#000000\" pointer-events=\"none\" stroke=\"#000000\" stroke-miterlimit=\"10\"/><path d=\"M 221 201 L 264.63 201\" fill=\"none\" pointer-events=\"none\" stroke=\"#000000\" stroke-miterlimit=\"10\"/><path d=\"M 269.88 201 L 262.88 204.5 L 264.63 201 L 262.88 197.5 Z\" fill=\"#000000\" pointer-events=\"none\" stroke=\"#000000\" stroke-miterlimit=\"10\"/><path d=\"M 391 201 L 471 201 L 471 187.37\" fill=\"none\" pointer-events=\"none\" stroke=\"#000000\" stroke-miterlimit=\"10\"/><path d=\"M 471 182.12 L 474.5 189.12 L 471 187.37 L 467.5 189.12 Z\" fill=\"#000000\" pointer-events=\"none\" stroke=\"#000000\" stroke-miterlimit=\"10\"/><rect fill=\"#f8cecc\" height=\"60\" pointer-events=\"none\" stroke=\"#b85450\" width=\"120\" x=\"271\" y=\"171\"/><g transform=\"translate(312.5,194.5)\"><switch><foreignObject height=\"12\" pointer-events=\"all\" requiredFeatures=\"http://www.w3.org/TR/SVG11/feature#Extensibility\" style=\"overflow:visible;\" width=\"36\"><div style=\"display: inline-block; font-size: 12px; font-family: Helvetica; color: rgb(0, 0, 0); line-height: 1.2; vertical-align: top; width: 38px; white-space: nowrap; word-wrap: normal; text-align: center;\" xmlns=\"http://www.w3.org/1999/xhtml\"><div style=\"display:inline-block;text-align:inherit;text-decoration:inherit;\" xmlns=\"http://www.w3.org/1999/xhtml\">y_train</div></div></foreignObject><text fill=\"#000000\" font-family=\"Helvetica\" font-size=\"12px\" text-anchor=\"middle\" x=\"18\" y=\"12\">y_train</text></switch></g><rect fill=\"#f8cecc\" height=\"60\" pointer-events=\"none\" stroke=\"#b85450\" width=\"120\" x=\"271\" y=\"241\"/><g transform=\"translate(314.5,264.5)\"><switch><foreignObject height=\"12\" pointer-events=\"all\" requiredFeatures=\"http://www.w3.org/TR/SVG11/feature#Extensibility\" style=\"overflow:visible;\" width=\"32\"><div style=\"display: inline-block; font-size: 12px; font-family: Helvetica; color: rgb(0, 0, 0); line-height: 1.2; vertical-align: top; width: 34px; white-space: nowrap; word-wrap: normal; text-align: center;\" xmlns=\"http://www.w3.org/1999/xhtml\"><div style=\"display:inline-block;text-align:inherit;text-decoration:inherit;\" xmlns=\"http://www.w3.org/1999/xhtml\">y_test</div></div></foreignObject><text fill=\"#000000\" font-family=\"Helvetica\" font-size=\"12px\" text-anchor=\"middle\" x=\"16\" y=\"12\">y_test</text></switch></g><path d=\"M 221 201 L 267.3 265.82\" fill=\"none\" pointer-events=\"none\" stroke=\"#000000\" stroke-miterlimit=\"10\"/><path d=\"M 270.35 270.09 L 263.43 266.43 L 267.3 265.82 L 269.13 262.36 Z\" fill=\"#000000\" pointer-events=\"none\" stroke=\"#000000\" stroke-miterlimit=\"10\"/><rect fill=\"#dae8fc\" height=\"60\" pointer-events=\"none\" rx=\"9\" ry=\"9\" stroke=\"#6c8ebf\" width=\"120\" x=\"441\" y=\"121\"/><g transform=\"translate(459.5,144.5)\"><switch><foreignObject height=\"12\" pointer-events=\"all\" requiredFeatures=\"http://www.w3.org/TR/SVG11/feature#Extensibility\" style=\"overflow:visible;\" width=\"82\"><div style=\"display: inline-block; font-size: 12px; font-family: Helvetica; color: rgb(0, 0, 0); line-height: 1.2; vertical-align: top; width: 84px; white-space: nowrap; word-wrap: normal; text-align: center;\" xmlns=\"http://www.w3.org/1999/xhtml\"><div style=\"display:inline-block;text-align:inherit;text-decoration:inherit;\" xmlns=\"http://www.w3.org/1999/xhtml\">classifier model</div></div></foreignObject><text fill=\"#000000\" font-family=\"Helvetica\" font-size=\"12px\" text-anchor=\"middle\" x=\"41\" y=\"12\">classifier model</text></switch></g><path d=\"M 591 61 L 591 234.63\" fill=\"none\" pointer-events=\"none\" stroke=\"#000000\" stroke-miterlimit=\"10\"/><path d=\"M 591 239.88 L 587.5 232.88 L 591 234.63 L 594.5 232.88 Z\" fill=\"#000000\" pointer-events=\"none\" stroke=\"#000000\" stroke-miterlimit=\"10\"/><rect fill=\"#d5e8d4\" height=\"60\" pointer-events=\"none\" rx=\"9\" ry=\"9\" stroke=\"#82b366\" width=\"120\" x=\"531\" y=\"1\"/><g transform=\"translate(561.5,24.5)\"><switch><foreignObject height=\"12\" pointer-events=\"all\" requiredFeatures=\"http://www.w3.org/TR/SVG11/feature#Extensibility\" style=\"overflow:visible;\" width=\"58\"><div style=\"display: inline-block; font-size: 12px; font-family: Helvetica; color: rgb(0, 0, 0); line-height: 1.2; vertical-align: top; width: 60px; white-space: nowrap; word-wrap: normal; text-align: center;\" xmlns=\"http://www.w3.org/1999/xhtml\"><div style=\"display:inline-block;text-align:inherit;text-decoration:inherit;\" xmlns=\"http://www.w3.org/1999/xhtml\">predictions</div></div></foreignObject><text fill=\"#000000\" font-family=\"Helvetica\" font-size=\"12px\" text-anchor=\"middle\" x=\"29\" y=\"12\">predictions</text></switch></g><path d=\"M 391 31 L 524.63 31\" fill=\"none\" pointer-events=\"none\" stroke=\"#000000\" stroke-miterlimit=\"10\"/><path d=\"M 529.88 31 L 522.88 34.5 L 524.63 31 L 522.88 27.5 Z\" fill=\"#000000\" pointer-events=\"none\" stroke=\"#000000\" stroke-miterlimit=\"10\"/><path d=\"M 501 121 L 501 37.37\" fill=\"none\" pointer-events=\"none\" stroke=\"#000000\" stroke-miterlimit=\"10\"/><path d=\"M 501 32.12 L 504.5 39.12 L 501 37.37 L 497.5 39.12 Z\" fill=\"#000000\" pointer-events=\"none\" stroke=\"#000000\" stroke-miterlimit=\"10\"/><rect fill=\"#f5f5f5\" height=\"60\" pointer-events=\"none\" stroke=\"#666666\" transform=\"rotate(180,591,271)\" width=\"120\" x=\"531\" y=\"241\"/><g transform=\"translate(563.5,264.5)\"><switch><foreignObject height=\"12\" pointer-events=\"all\" requiredFeatures=\"http://www.w3.org/TR/SVG11/feature#Extensibility\" style=\"overflow:visible;\" width=\"54\"><div style=\"display: inline-block; font-size: 12px; font-family: Helvetica; color: rgb(0, 0, 0); line-height: 1.2; vertical-align: top; width: 56px; white-space: nowrap; word-wrap: normal; text-align: center;\" xmlns=\"http://www.w3.org/1999/xhtml\"><div style=\"display:inline-block;text-align:inherit;text-decoration:inherit;\" xmlns=\"http://www.w3.org/1999/xhtml\">evaluation</div></div></foreignObject><text fill=\"#000000\" font-family=\"Helvetica\" font-size=\"12px\" text-anchor=\"middle\" x=\"27\" y=\"12\">evaluation</text></switch></g><path d=\"M 391 271 L 524.63 271\" fill=\"none\" pointer-events=\"none\" stroke=\"#000000\" stroke-miterlimit=\"10\"/><path d=\"M 529.88 271 L 522.88 274.5 L 524.63 271 L 522.88 267.5 Z\" fill=\"#000000\" pointer-events=\"none\" stroke=\"#000000\" stroke-miterlimit=\"10\"/></g></svg>"
      ],
      "text/plain": [
       "<IPython.core.display.SVG object>"
      ]
     },
     "metadata": {},
     "output_type": "display_data"
    }
   ],
   "source": [
    "from IPython.display import SVG, display\n",
    "\n",
    "display(SVG('./figure/scikit-learn-flow.svg'))"
   ]
  },
  {
   "cell_type": "code",
   "execution_count": 19,
   "metadata": {
    "collapsed": false,
    "slideshow": {
     "slide_type": "subslide"
    }
   },
   "outputs": [
    {
     "data": {
      "image/svg+xml": [
       "<svg content=\"&lt;mxfile userAgent=&quot;Mozilla/5.0 (X11; Linux x86_64) AppleWebKit/537.36 (KHTML, like Gecko) Chrome/53.0.2785.116 Safari/537.36&quot; version=&quot;5.7.0.9&quot; editor=&quot;www.draw.io&quot; type=&quot;device&quot;&gt;&lt;diagram&gt;7Vtdc5s4FP01fs0A4suP2zTpPqSdzmZnNvuUkUHGbDHyCDm299evBAIbScTYRjTeOn0oCCGJc+85urqSJ+B+uf1C4GrxFccomzhWvJ2AzxPHsa0gZP/xkl1VEvpBVZCQNBaV9gXP6b+oflOUrtMYFa2KFOOMpqt2YYTzHEW0VQYJwZt2tTnO2r2uYIKUgucIZmrpX2lMF+IrPGtf/jtKk0Xds22JJzMY/UgIXueiv4kD5uVf9XgJ67ZE/WIBY7w5KAIPE3BPMKbV1XJ7jzKObQ1b9d5jx9Nm3ATltM8LwBfjoLv621HMoBC3mNAFTnAOs4d96afy+xBvwWJ3C7rM2KXNLtE2pS8H13/zKncev8sp2b2IN8qb/bN/EKU74QNwTTEr2vf7hPFKtFiNlA+v82NFUYHXJBK1HOE+kCRI1PIaoJkDI7xEbDisCkEZpOlbu3UoPClp6u3RZBcCUD24ous3mK1Fo09whrJCgXyzSCl6XsFyzBtGqTas8zTL7nGGSVmbO5QTRay8oAT/QAdPYn/me34D1RsiFG3fB0uFQbxQ+7pgsFt7+OaAD6JocUAF37ocN+D9350SqE7pjuSUQHHKz5DCa3RJMKJLugpqjwjSNUEXkzmMkB65Wei5njUMco51HLrAEHSeIRX8KcDpZNAUcL4CnCqLefwbD3fYXZTBokgjSfveUbhuXTxP01xV00I9tgfYeRrs6rLe0id6+I5TNrzGdMCXfB5INqkGL946jJGkhly73VAjMnVD1ScrDZX2bT67l8lDxeQvrxQV9Cq4AhwJJ6ByxXYMkaV2v/FihjvHa5HKeNAwVQlmT/UWGTxqmOock8A0v0rP1E1/xjyzVo8r1vEOL6vRDSTeT1V039P5EyRd6gm450q6LFVTY5Ju2wOY/6wlzHnm9zQq07E2qWOk4HiMNIz9lZ7OtT+QpvTGH4a3vzP6YlaamGzjE5OtkYzRZiZbXZrtrnhq0pHH3NQU6LC71njTDcaETg3Vr07Wg/dlPZTgtY3JutzT2bIOjjQ04LSuRsSVjecpIqx8We2JSB6x13Vu89NIFUMUzrWk8qMQzebDkMqdSiGWNyKpgK0gNsBcuQ+Tx5kOmx2rA64B58LpUO/wvtu2lmf1c3gmS3B3UG3FKxQXUsJRI90VQXEa0RTnarrvIi54KIxdHRdCZwb8ofLNki6Nm9AwvGzs79uHftyF2DgpPVdydwXovhOFD440NGD8P0Cg0NdWP8sunrwzI8cAfe0iN2TQLsBR7IL4NeRqpVjoiDzFKUGlzPGnPH5WQ2KP/9PO3uWfGcUaNSQGwMTsrQbHhhezwYefvY/qotJQB//OoI1rJM/eDtEscf0dkZQNDZHJaen1Oc7pI1ymGYfjnn16FZJ/QxvxULTBTH12ktSMR9hygkvesxpO/1xV/8p92Yc8YksXoli50q36NJRzPGQrFnDFnyy3CT8kdjeDbF67i3G0XpbInmYm5cAB8jsOHATTmTVQhkFaC7maxLbtG1JT10jeUF0LfXSigVGIpmwOD0g09cSNODvyJ4F5McdkeaNb+VTeR3JUujXnMfpmnHrTLbjRjcPgG6EbkI7RGNxvc9VjM+VuQJnXfi1WWapmt39FsjnSFpitSW6YY9v0xjYOQ8cBqUvTJOF5k1t3VrBjtS7nx+TD5kfGJdVnF9UIzqa+mmop0/B38xvntQaw3RE575lJ7qt7Zx+b856lN9HQKTjb2Axb96TQTGT7b1RjT3x5gaHb19etHQehmrq2rzcnozK/+UrQihHgZikOlrQX4PkaUXRNWcrMKr+XKDa7Q81W0ek51jEEU/NjmYtPF50V78j5WhAOG794aqbgCSdpQdPoD5QQxAjMtyb8jBNrxnD2E3719dsnuNP8EOVXJLNiIh2ZB4pw2O3+h5qVufe/hgUP/wE=&lt;/diagram&gt;&lt;/mxfile&gt;\" height=\"484px\" style=\"background-color: rgb(255, 255, 255);\" version=\"1.1\" width=\"794px\" xmlns=\"http://www.w3.org/2000/svg\" xmlns:xlink=\"http://www.w3.org/1999/xlink\"><defs/><g transform=\"translate(0.5,0.5)\"><path d=\"M 81 302 L 144.63 302\" fill=\"none\" pointer-events=\"none\" stroke=\"#000000\" stroke-miterlimit=\"10\"/><path d=\"M 149.88 302 L 142.88 305.5 L 144.63 302 L 142.88 298.5 Z\" fill=\"#000000\" pointer-events=\"none\" stroke=\"#000000\" stroke-miterlimit=\"10\"/><rect fill=\"#fff2cc\" height=\"60\" pointer-events=\"none\" stroke=\"#d6b656\" width=\"80\" x=\"1\" y=\"272\"/><g transform=\"translate(22.5,295.5)\"><switch><foreignObject height=\"12\" pointer-events=\"all\" requiredFeatures=\"http://www.w3.org/TR/SVG11/feature#Extensibility\" style=\"overflow:visible;\" width=\"36\"><div style=\"display: inline-block; font-size: 12px; font-family: Helvetica; color: rgb(0, 0, 0); line-height: 1.2; vertical-align: top; width: 36px; white-space: nowrap; word-wrap: normal; text-align: center;\" xmlns=\"http://www.w3.org/1999/xhtml\"><div style=\"display:inline-block;text-align:inherit;text-decoration:inherit;\" xmlns=\"http://www.w3.org/1999/xhtml\">Labels</div></div></foreignObject><text fill=\"#000000\" font-family=\"Helvetica\" font-size=\"12px\" text-anchor=\"middle\" x=\"18\" y=\"12\">Labels</text></switch></g><path d=\"M 81 202 L 144.63 202\" fill=\"none\" pointer-events=\"none\" stroke=\"#000000\" stroke-miterlimit=\"10\"/><path d=\"M 149.88 202 L 142.88 205.5 L 144.63 202 L 142.88 198.5 Z\" fill=\"#000000\" pointer-events=\"none\" stroke=\"#000000\" stroke-miterlimit=\"10\"/><rect fill=\"#fff2cc\" height=\"60\" pointer-events=\"none\" stroke=\"#d6b656\" width=\"80\" x=\"1\" y=\"172\"/><g transform=\"translate(27.5,195.5)\"><switch><foreignObject height=\"12\" pointer-events=\"all\" requiredFeatures=\"http://www.w3.org/TR/SVG11/feature#Extensibility\" style=\"overflow:visible;\" width=\"26\"><div style=\"display: inline-block; font-size: 12px; font-family: Helvetica; color: rgb(0, 0, 0); line-height: 1.2; vertical-align: top; width: 26px; white-space: nowrap; word-wrap: normal; text-align: center;\" xmlns=\"http://www.w3.org/1999/xhtml\"><div style=\"display:inline-block;text-align:inherit;text-decoration:inherit;\" xmlns=\"http://www.w3.org/1999/xhtml\">Data</div></div></foreignObject><text fill=\"#000000\" font-family=\"Helvetica\" font-size=\"12px\" text-anchor=\"middle\" x=\"13\" y=\"12\">Data</text></switch></g><rect fill=\"#f8cecc\" height=\"60\" pointer-events=\"none\" stroke=\"#b85450\" width=\"70\" x=\"151\" y=\"172\"/><g transform=\"translate(161.5,195.5)\"><switch><foreignObject height=\"12\" pointer-events=\"all\" requiredFeatures=\"http://www.w3.org/TR/SVG11/feature#Extensibility\" style=\"overflow:visible;\" width=\"48\"><div style=\"display: inline-block; font-size: 12px; font-family: Helvetica; color: rgb(0, 0, 0); line-height: 1.2; vertical-align: top; width: 48px; white-space: nowrap; word-wrap: normal; text-align: center;\" xmlns=\"http://www.w3.org/1999/xhtml\"><div style=\"display:inline-block;text-align:inherit;text-decoration:inherit;\" xmlns=\"http://www.w3.org/1999/xhtml\">Features</div></div></foreignObject><text fill=\"#000000\" font-family=\"Helvetica\" font-size=\"12px\" text-anchor=\"middle\" x=\"24\" y=\"12\">Features</text></switch></g><rect fill=\"#f8cecc\" height=\"60\" pointer-events=\"none\" stroke=\"#b85450\" width=\"70\" x=\"151\" y=\"272\"/><g transform=\"translate(167.5,295.5)\"><switch><foreignObject height=\"12\" pointer-events=\"all\" requiredFeatures=\"http://www.w3.org/TR/SVG11/feature#Extensibility\" style=\"overflow:visible;\" width=\"36\"><div style=\"display: inline-block; font-size: 12px; font-family: Helvetica; color: rgb(0, 0, 0); line-height: 1.2; vertical-align: top; width: 36px; white-space: nowrap; word-wrap: normal; text-align: center;\" xmlns=\"http://www.w3.org/1999/xhtml\"><div style=\"display:inline-block;text-align:inherit;text-decoration:inherit;\" xmlns=\"http://www.w3.org/1999/xhtml\">Labels</div></div></foreignObject><text fill=\"#000000\" font-family=\"Helvetica\" font-size=\"12px\" text-anchor=\"middle\" x=\"18\" y=\"12\">Labels</text></switch></g><path d=\"M 221 202 L 267.3 137.18\" fill=\"none\" pointer-events=\"none\" stroke=\"#000000\" stroke-miterlimit=\"10\"/><path d=\"M 270.35 132.91 L 269.13 140.64 L 267.3 137.18 L 263.43 136.57 Z\" fill=\"#000000\" pointer-events=\"none\" stroke=\"#000000\" stroke-miterlimit=\"10\"/><rect fill=\"#f8cecc\" height=\"60\" pointer-events=\"none\" stroke=\"#b85450\" width=\"120\" x=\"271\" y=\"102\"/><g transform=\"translate(313.5,125.5)\"><switch><foreignObject height=\"12\" pointer-events=\"all\" requiredFeatures=\"http://www.w3.org/TR/SVG11/feature#Extensibility\" style=\"overflow:visible;\" width=\"34\"><div style=\"display: inline-block; font-size: 12px; font-family: Helvetica; color: rgb(0, 0, 0); line-height: 1.2; vertical-align: top; width: 36px; white-space: nowrap; word-wrap: normal; text-align: center;\" xmlns=\"http://www.w3.org/1999/xhtml\"><div style=\"display:inline-block;text-align:inherit;text-decoration:inherit;\" xmlns=\"http://www.w3.org/1999/xhtml\">X_test</div></div></foreignObject><text fill=\"#000000\" font-family=\"Helvetica\" font-size=\"12px\" text-anchor=\"middle\" x=\"17\" y=\"12\">X_test</text></switch></g><path d=\"M 391 202 L 471 202 L 471 215.63\" fill=\"none\" pointer-events=\"none\" stroke=\"#000000\" stroke-miterlimit=\"10\"/><path d=\"M 471 220.88 L 467.5 213.88 L 471 215.63 L 474.5 213.88 Z\" fill=\"#000000\" pointer-events=\"none\" stroke=\"#000000\" stroke-miterlimit=\"10\"/><rect fill=\"#f8cecc\" height=\"60\" pointer-events=\"none\" stroke=\"#b85450\" width=\"120\" x=\"271\" y=\"172\"/><g transform=\"translate(311.5,195.5)\"><switch><foreignObject height=\"12\" pointer-events=\"all\" requiredFeatures=\"http://www.w3.org/TR/SVG11/feature#Extensibility\" style=\"overflow:visible;\" width=\"38\"><div style=\"display: inline-block; font-size: 12px; font-family: Helvetica; color: rgb(0, 0, 0); line-height: 1.2; vertical-align: top; width: 40px; white-space: nowrap; word-wrap: normal; text-align: center;\" xmlns=\"http://www.w3.org/1999/xhtml\"><div style=\"display:inline-block;text-align:inherit;text-decoration:inherit;\" xmlns=\"http://www.w3.org/1999/xhtml\">X_train</div></div></foreignObject><text fill=\"#000000\" font-family=\"Helvetica\" font-size=\"12px\" text-anchor=\"middle\" x=\"19\" y=\"12\">X_train</text></switch></g><path d=\"M 221 202 L 264.63 202\" fill=\"none\" pointer-events=\"none\" stroke=\"#000000\" stroke-miterlimit=\"10\"/><path d=\"M 269.88 202 L 262.88 205.5 L 264.63 202 L 262.88 198.5 Z\" fill=\"#000000\" pointer-events=\"none\" stroke=\"#000000\" stroke-miterlimit=\"10\"/><path d=\"M 221 302 L 264.63 302\" fill=\"none\" pointer-events=\"none\" stroke=\"#000000\" stroke-miterlimit=\"10\"/><path d=\"M 269.88 302 L 262.88 305.5 L 264.63 302 L 262.88 298.5 Z\" fill=\"#000000\" pointer-events=\"none\" stroke=\"#000000\" stroke-miterlimit=\"10\"/><path d=\"M 391 302 L 471 302 L 471 288.37\" fill=\"none\" pointer-events=\"none\" stroke=\"#000000\" stroke-miterlimit=\"10\"/><path d=\"M 471 283.12 L 474.5 290.12 L 471 288.37 L 467.5 290.12 Z\" fill=\"#000000\" pointer-events=\"none\" stroke=\"#000000\" stroke-miterlimit=\"10\"/><rect fill=\"#f8cecc\" height=\"60\" pointer-events=\"none\" stroke=\"#b85450\" width=\"120\" x=\"271\" y=\"272\"/><g transform=\"translate(312.5,295.5)\"><switch><foreignObject height=\"12\" pointer-events=\"all\" requiredFeatures=\"http://www.w3.org/TR/SVG11/feature#Extensibility\" style=\"overflow:visible;\" width=\"36\"><div style=\"display: inline-block; font-size: 12px; font-family: Helvetica; color: rgb(0, 0, 0); line-height: 1.2; vertical-align: top; width: 38px; white-space: nowrap; word-wrap: normal; text-align: center;\" xmlns=\"http://www.w3.org/1999/xhtml\"><div style=\"display:inline-block;text-align:inherit;text-decoration:inherit;\" xmlns=\"http://www.w3.org/1999/xhtml\">y_train</div></div></foreignObject><text fill=\"#000000\" font-family=\"Helvetica\" font-size=\"12px\" text-anchor=\"middle\" x=\"18\" y=\"12\">y_train</text></switch></g><rect fill=\"#f8cecc\" height=\"60\" pointer-events=\"none\" stroke=\"#b85450\" width=\"120\" x=\"271\" y=\"342\"/><g transform=\"translate(314.5,365.5)\"><switch><foreignObject height=\"12\" pointer-events=\"all\" requiredFeatures=\"http://www.w3.org/TR/SVG11/feature#Extensibility\" style=\"overflow:visible;\" width=\"32\"><div style=\"display: inline-block; font-size: 12px; font-family: Helvetica; color: rgb(0, 0, 0); line-height: 1.2; vertical-align: top; width: 34px; white-space: nowrap; word-wrap: normal; text-align: center;\" xmlns=\"http://www.w3.org/1999/xhtml\"><div style=\"display:inline-block;text-align:inherit;text-decoration:inherit;\" xmlns=\"http://www.w3.org/1999/xhtml\">y_test</div></div></foreignObject><text fill=\"#000000\" font-family=\"Helvetica\" font-size=\"12px\" text-anchor=\"middle\" x=\"16\" y=\"12\">y_test</text></switch></g><path d=\"M 221 302 L 267.3 366.82\" fill=\"none\" pointer-events=\"none\" stroke=\"#000000\" stroke-miterlimit=\"10\"/><path d=\"M 270.35 371.09 L 263.43 367.43 L 267.3 366.82 L 269.13 363.36 Z\" fill=\"#000000\" pointer-events=\"none\" stroke=\"#000000\" stroke-miterlimit=\"10\"/><rect fill=\"#dae8fc\" height=\"60\" pointer-events=\"none\" rx=\"9\" ry=\"9\" stroke=\"#6c8ebf\" width=\"120\" x=\"441\" y=\"222\"/><g transform=\"translate(459.5,245.5)\"><switch><foreignObject height=\"12\" pointer-events=\"all\" requiredFeatures=\"http://www.w3.org/TR/SVG11/feature#Extensibility\" style=\"overflow:visible;\" width=\"82\"><div style=\"display: inline-block; font-size: 12px; font-family: Helvetica; color: rgb(0, 0, 0); line-height: 1.2; vertical-align: top; width: 84px; white-space: nowrap; word-wrap: normal; text-align: center;\" xmlns=\"http://www.w3.org/1999/xhtml\"><div style=\"display:inline-block;text-align:inherit;text-decoration:inherit;\" xmlns=\"http://www.w3.org/1999/xhtml\">classifier model</div></div></foreignObject><text fill=\"#000000\" font-family=\"Helvetica\" font-size=\"12px\" text-anchor=\"middle\" x=\"41\" y=\"12\">classifier model</text></switch></g><path d=\"M 591 162 L 591 335.63\" fill=\"none\" pointer-events=\"none\" stroke=\"#000000\" stroke-miterlimit=\"10\"/><path d=\"M 591 340.88 L 587.5 333.88 L 591 335.63 L 594.5 333.88 Z\" fill=\"#000000\" pointer-events=\"none\" stroke=\"#000000\" stroke-miterlimit=\"10\"/><rect fill=\"#d5e8d4\" height=\"60\" pointer-events=\"none\" rx=\"9\" ry=\"9\" stroke=\"#82b366\" width=\"120\" x=\"531\" y=\"102\"/><g transform=\"translate(561.5,125.5)\"><switch><foreignObject height=\"12\" pointer-events=\"all\" requiredFeatures=\"http://www.w3.org/TR/SVG11/feature#Extensibility\" style=\"overflow:visible;\" width=\"58\"><div style=\"display: inline-block; font-size: 12px; font-family: Helvetica; color: rgb(0, 0, 0); line-height: 1.2; vertical-align: top; width: 60px; white-space: nowrap; word-wrap: normal; text-align: center;\" xmlns=\"http://www.w3.org/1999/xhtml\"><div style=\"display:inline-block;text-align:inherit;text-decoration:inherit;\" xmlns=\"http://www.w3.org/1999/xhtml\">predictions</div></div></foreignObject><text fill=\"#000000\" font-family=\"Helvetica\" font-size=\"12px\" text-anchor=\"middle\" x=\"29\" y=\"12\">predictions</text></switch></g><path d=\"M 391 132 L 524.63 132\" fill=\"none\" pointer-events=\"none\" stroke=\"#000000\" stroke-miterlimit=\"10\"/><path d=\"M 529.88 132 L 522.88 135.5 L 524.63 132 L 522.88 128.5 Z\" fill=\"#000000\" pointer-events=\"none\" stroke=\"#000000\" stroke-miterlimit=\"10\"/><path d=\"M 501 222 L 501 138.37\" fill=\"none\" pointer-events=\"none\" stroke=\"#000000\" stroke-miterlimit=\"10\"/><path d=\"M 501 133.12 L 504.5 140.12 L 501 138.37 L 497.5 140.12 Z\" fill=\"#000000\" pointer-events=\"none\" stroke=\"#000000\" stroke-miterlimit=\"10\"/><rect fill=\"#f5f5f5\" height=\"60\" pointer-events=\"none\" stroke=\"#666666\" transform=\"rotate(180,591,372)\" width=\"120\" x=\"531\" y=\"342\"/><g transform=\"translate(563.5,365.5)\"><switch><foreignObject height=\"12\" pointer-events=\"all\" requiredFeatures=\"http://www.w3.org/TR/SVG11/feature#Extensibility\" style=\"overflow:visible;\" width=\"54\"><div style=\"display: inline-block; font-size: 12px; font-family: Helvetica; color: rgb(0, 0, 0); line-height: 1.2; vertical-align: top; width: 56px; white-space: nowrap; word-wrap: normal; text-align: center;\" xmlns=\"http://www.w3.org/1999/xhtml\"><div style=\"display:inline-block;text-align:inherit;text-decoration:inherit;\" xmlns=\"http://www.w3.org/1999/xhtml\">evaluation</div></div></foreignObject><text fill=\"#000000\" font-family=\"Helvetica\" font-size=\"12px\" text-anchor=\"middle\" x=\"27\" y=\"12\">evaluation</text></switch></g><path d=\"M 391 372 L 524.63 372\" fill=\"none\" pointer-events=\"none\" stroke=\"#000000\" stroke-miterlimit=\"10\"/><path d=\"M 529.88 372 L 522.88 375.5 L 524.63 372 L 522.88 368.5 Z\" fill=\"#000000\" pointer-events=\"none\" stroke=\"#000000\" stroke-miterlimit=\"10\"/><path d=\"M 121 362 L 121 308.37\" fill=\"none\" pointer-events=\"none\" stroke=\"#000000\" stroke-miterlimit=\"10\"/><path d=\"M 121 303.12 L 124.5 310.12 L 121 308.37 L 117.5 310.12 Z\" fill=\"#000000\" pointer-events=\"none\" stroke=\"#000000\" stroke-miterlimit=\"10\"/><path d=\"M 201 370.57 L 201 422 L 41 422 L 41 362 L 178.14 362 Z\" fill=\"#ffe6cc\" pointer-events=\"none\" stroke=\"#d79b00\" stroke-miterlimit=\"10\" stroke-width=\"2\"/><path d=\"M 178.14 362 C 180 364.01 176.94 366.07 169.98 367.51 L 201 370.57\" fill=\"none\" pointer-events=\"none\" stroke=\"#d79b00\" stroke-miterlimit=\"10\" stroke-width=\"2\"/><g transform=\"translate(58.5,382.5)\"><switch><foreignObject height=\"18\" pointer-events=\"all\" requiredFeatures=\"http://www.w3.org/TR/SVG11/feature#Extensibility\" style=\"overflow:visible;\" width=\"123\"><div style=\"display: inline-block; font-size: 17px; font-family: &quot;Courier New&quot;; color: rgb(0, 0, 0); line-height: 1.2; vertical-align: top; width: 123px; white-space: nowrap; word-wrap: normal; text-align: center;\" xmlns=\"http://www.w3.org/1999/xhtml\"><div style=\"display:inline-block;text-align:inherit;text-decoration:inherit;\" xmlns=\"http://www.w3.org/1999/xhtml\">LabelEncoder</div></div></foreignObject><text fill=\"#000000\" font-family=\"Courier New\" font-size=\"17px\" text-anchor=\"middle\" x=\"62\" y=\"18\">LabelEncoder</text></switch></g><path d=\"M 121 142 L 121 195.63\" fill=\"none\" pointer-events=\"none\" stroke=\"#000000\" stroke-miterlimit=\"10\"/><path d=\"M 121 200.88 L 117.5 193.88 L 121 195.63 L 124.5 193.88 Z\" fill=\"#000000\" pointer-events=\"none\" stroke=\"#000000\" stroke-miterlimit=\"10\"/><path d=\"M 221 99.14 L 221 142 L 21 142 L 21 92 L 192.43 92 Z\" fill=\"#ffe6cc\" pointer-events=\"none\" stroke=\"#d79b00\" stroke-miterlimit=\"10\" stroke-width=\"2\"/><path d=\"M 192.43 92 C 194.76 93.67 190.93 95.39 182.22 96.59 L 221 99.14\" fill=\"none\" pointer-events=\"none\" stroke=\"#d79b00\" stroke-miterlimit=\"10\" stroke-width=\"2\"/><g transform=\"translate(28.5,107.5)\"><switch><foreignObject height=\"18\" pointer-events=\"all\" requiredFeatures=\"http://www.w3.org/TR/SVG11/feature#Extensibility\" style=\"overflow:visible;\" width=\"183\"><div style=\"display: inline-block; font-size: 17px; font-family: &quot;Courier New&quot;; color: rgb(0, 0, 0); line-height: 1.2; vertical-align: top; width: 185px; white-space: nowrap; word-wrap: normal; text-align: center;\" xmlns=\"http://www.w3.org/1999/xhtml\"><div style=\"display:inline-block;text-align:inherit;text-decoration:inherit;\" xmlns=\"http://www.w3.org/1999/xhtml\">FeatureTransformer</div></div></foreignObject><text fill=\"#000000\" font-family=\"Courier New\" font-size=\"17px\" text-anchor=\"middle\" x=\"92\" y=\"18\">FeatureTransformer</text></switch></g><path d=\"M 261 52 L 261 107 L 251 107 L 251 155.63\" fill=\"none\" pointer-events=\"none\" stroke=\"#000000\" stroke-miterlimit=\"10\"/><path d=\"M 251 160.88 L 247.5 153.88 L 251 155.63 L 254.5 153.88 Z\" fill=\"#000000\" pointer-events=\"none\" stroke=\"#000000\" stroke-miterlimit=\"10\"/><path d=\"M 361 9.14 L 361 52 L 161 52 L 161 2 L 332.43 2 Z\" fill=\"#ffe6cc\" pointer-events=\"none\" stroke=\"#d79b00\" stroke-miterlimit=\"10\" stroke-width=\"2\"/><path d=\"M 332.43 2 C 334.76 3.67 330.93 5.39 322.22 6.59 L 361 9.14\" fill=\"none\" pointer-events=\"none\" stroke=\"#d79b00\" stroke-miterlimit=\"10\" stroke-width=\"2\"/><g transform=\"translate(178.5,17.5)\"><switch><foreignObject height=\"18\" pointer-events=\"all\" requiredFeatures=\"http://www.w3.org/TR/SVG11/feature#Extensibility\" style=\"overflow:visible;\" width=\"163\"><div style=\"display: inline-block; font-size: 17px; font-family: &quot;Courier New&quot;; color: rgb(0, 0, 0); line-height: 1.2; vertical-align: top; width: 165px; white-space: nowrap; word-wrap: normal; text-align: center;\" xmlns=\"http://www.w3.org/1999/xhtml\"><div style=\"display:inline-block;text-align:inherit;text-decoration:inherit;\" xmlns=\"http://www.w3.org/1999/xhtml\">train_test_split</div></div></foreignObject><text fill=\"#000000\" font-family=\"Courier New\" font-size=\"17px\" text-anchor=\"middle\" x=\"82\" y=\"18\">train_test_split</text></switch></g><path d=\"M 531 62 L 531 92 L 431 92 L 431 195.63\" fill=\"none\" pointer-events=\"none\" stroke=\"#000000\" stroke-miterlimit=\"10\"/><path d=\"M 431 200.88 L 427.5 193.88 L 431 195.63 L 434.5 193.88 Z\" fill=\"#000000\" pointer-events=\"none\" stroke=\"#000000\" stroke-miterlimit=\"10\"/><path d=\"M 631 19.14 L 631 62 L 431 62 L 431 12 L 602.43 12 Z\" fill=\"#ffe6cc\" pointer-events=\"none\" stroke=\"#d79b00\" stroke-miterlimit=\"10\" stroke-width=\"2\"/><path d=\"M 602.43 12 C 604.76 13.67 600.93 15.39 592.22 16.59 L 631 19.14\" fill=\"none\" pointer-events=\"none\" stroke=\"#d79b00\" stroke-miterlimit=\"10\" stroke-width=\"2\"/><g transform=\"translate(484.5,27.5)\"><switch><foreignObject height=\"18\" pointer-events=\"all\" requiredFeatures=\"http://www.w3.org/TR/SVG11/feature#Extensibility\" style=\"overflow:visible;\" width=\"91\"><div style=\"display: inline-block; font-size: 17px; font-family: &quot;Courier New&quot;; color: rgb(0, 0, 0); line-height: 1.2; vertical-align: top; width: 93px; white-space: nowrap; word-wrap: normal; text-align: center;\" xmlns=\"http://www.w3.org/1999/xhtml\"><div style=\"display:inline-block;text-align:inherit;text-decoration:inherit;\" xmlns=\"http://www.w3.org/1999/xhtml\">model.fit</div></div></foreignObject><text fill=\"#000000\" font-family=\"Courier New\" font-size=\"17px\" text-anchor=\"middle\" x=\"46\" y=\"18\">model.fit</text></switch></g><path d=\"M 621 197 L 561 197 L 561 182 L 507.37 182\" fill=\"none\" pointer-events=\"none\" stroke=\"#000000\" stroke-miterlimit=\"10\"/><path d=\"M 502.12 182 L 509.12 178.5 L 507.37 182 L 509.12 185.5 Z\" fill=\"#000000\" pointer-events=\"none\" stroke=\"#000000\" stroke-miterlimit=\"10\"/><path d=\"M 781 179.14 L 781 222 L 621 222 L 621 172 L 758.14 172 Z\" fill=\"#ffe6cc\" pointer-events=\"none\" stroke=\"#d79b00\" stroke-miterlimit=\"10\" stroke-width=\"2\"/><path d=\"M 758.14 172 C 760 173.67 756.94 175.39 749.98 176.59 L 781 179.14\" fill=\"none\" pointer-events=\"none\" stroke=\"#d79b00\" stroke-miterlimit=\"10\" stroke-width=\"2\"/><g transform=\"translate(633.5,187.5)\"><switch><foreignObject height=\"18\" pointer-events=\"all\" requiredFeatures=\"http://www.w3.org/TR/SVG11/feature#Extensibility\" style=\"overflow:visible;\" width=\"133\"><div style=\"display: inline-block; font-size: 17px; font-family: &quot;Courier New&quot;; color: rgb(0, 0, 0); line-height: 1.2; vertical-align: top; width: 133px; white-space: nowrap; word-wrap: normal; text-align: center;\" xmlns=\"http://www.w3.org/1999/xhtml\"><div style=\"display:inline-block;text-align:inherit;text-decoration:inherit;\" xmlns=\"http://www.w3.org/1999/xhtml\">model.predict</div></div></foreignObject><text fill=\"#000000\" font-family=\"Courier New\" font-size=\"17px\" text-anchor=\"middle\" x=\"67\" y=\"18\">model.predict</text></switch></g><path d=\"M 721 439.14 L 721 482 L 481 482 L 481 432 L 686.71 432 Z\" fill=\"#ffe6cc\" pointer-events=\"none\" stroke=\"#d79b00\" stroke-miterlimit=\"10\" stroke-width=\"2\"/><path d=\"M 686.71 432 C 689.51 433.67 684.91 435.39 674.47 436.59 L 721 439.14\" fill=\"none\" pointer-events=\"none\" stroke=\"#d79b00\" stroke-miterlimit=\"10\" stroke-width=\"2\"/><g transform=\"translate(492.5,447.5)\"><switch><foreignObject height=\"18\" pointer-events=\"all\" requiredFeatures=\"http://www.w3.org/TR/SVG11/feature#Extensibility\" style=\"overflow:visible;\" width=\"215\"><div style=\"display: inline-block; font-size: 17px; font-family: &quot;Courier New&quot;; color: rgb(0, 0, 0); line-height: 1.2; vertical-align: top; width: 215px; white-space: nowrap; word-wrap: normal; text-align: center;\" xmlns=\"http://www.w3.org/1999/xhtml\"><div style=\"display:inline-block;text-align:inherit;text-decoration:inherit;\" xmlns=\"http://www.w3.org/1999/xhtml\">classification_report</div></div></foreignObject><text fill=\"#000000\" font-family=\"Courier New\" font-size=\"17px\" text-anchor=\"middle\" x=\"108\" y=\"18\">classification_report</text></switch></g><path d=\"M 591 257 L 591 252 L 567.37 252\" fill=\"none\" pointer-events=\"none\" stroke=\"#000000\" stroke-miterlimit=\"10\"/><path d=\"M 562.12 252 L 569.12 248.5 L 567.37 252 L 569.12 255.5 Z\" fill=\"#000000\" pointer-events=\"none\" stroke=\"#000000\" stroke-miterlimit=\"10\"/><path d=\"M 791 239.14 L 791 282 L 591 282 L 591 232 L 762.43 232 Z\" fill=\"#ffe6cc\" pointer-events=\"none\" stroke=\"#d79b00\" stroke-miterlimit=\"10\" stroke-width=\"2\"/><path d=\"M 762.43 232 C 764.76 233.67 760.93 235.39 752.22 236.59 L 791 239.14\" fill=\"none\" pointer-events=\"none\" stroke=\"#d79b00\" stroke-miterlimit=\"10\" stroke-width=\"2\"/><g transform=\"translate(598.5,237.5)\"><switch><foreignObject height=\"38\" pointer-events=\"all\" requiredFeatures=\"http://www.w3.org/TR/SVG11/feature#Extensibility\" style=\"overflow:visible;\" width=\"183\"><div style=\"display: inline-block; font-size: 17px; font-family: &quot;Courier New&quot;; color: rgb(0, 0, 0); line-height: 1.2; vertical-align: top; width: 185px; white-space: nowrap; word-wrap: normal; text-align: center;\" xmlns=\"http://www.w3.org/1999/xhtml\"><div style=\"display:inline-block;text-align:inherit;text-decoration:inherit;\" xmlns=\"http://www.w3.org/1999/xhtml\">LogisticRegression<br/>MNBayes</div></div></foreignObject><text fill=\"#000000\" font-family=\"Courier New\" font-size=\"17px\" text-anchor=\"middle\" x=\"92\" y=\"28\">LogisticRegression&lt;br&gt;MNBayes</text></switch></g></g></svg>"
      ],
      "text/plain": [
       "<IPython.core.display.SVG object>"
      ]
     },
     "metadata": {},
     "output_type": "display_data"
    }
   ],
   "source": [
    "display(SVG('./figure/scikit-learn-flow-functions.svg'))"
   ]
  },
  {
   "cell_type": "code",
   "execution_count": 20,
   "metadata": {
    "collapsed": false,
    "slideshow": {
     "slide_type": "subslide"
    }
   },
   "outputs": [
    {
     "data": {
      "image/svg+xml": [
       "<svg content=\"&lt;mxfile userAgent=&quot;Mozilla/5.0 (X11; Linux x86_64) AppleWebKit/537.36 (KHTML, like Gecko) Chrome/53.0.2785.116 Safari/537.36&quot; version=&quot;5.7.0.9&quot; editor=&quot;www.draw.io&quot; type=&quot;device&quot;&gt;&lt;diagram&gt;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&lt;/diagram&gt;&lt;/mxfile&gt;\" height=\"553px\" style=\"background-color: rgb(255, 255, 255);\" version=\"1.1\" width=\"834px\" xmlns=\"http://www.w3.org/2000/svg\" xmlns:xlink=\"http://www.w3.org/1999/xlink\"><defs><linearGradient id=\"mx-gradient-d4e1f5-1-ffffff-1-s-0\" x1=\"0%\" x2=\"0%\" y1=\"0%\" y2=\"100%\"><stop offset=\"0%\" style=\"stop-color:#D4E1F5\"/><stop offset=\"100%\" style=\"stop-color:#ffffff\"/></linearGradient><linearGradient id=\"mx-gradient-e1d5e7-1-ffffff-1-s-0\" x1=\"0%\" x2=\"0%\" y1=\"0%\" y2=\"100%\"><stop offset=\"0%\" style=\"stop-color:#e1d5e7\"/><stop offset=\"100%\" style=\"stop-color:#ffffff\"/></linearGradient></defs><g transform=\"translate(0.5,0.5)\"><rect fill=\"url(#mx-gradient-d4e1f5-1-ffffff-1-s-0)\" height=\"550\" pointer-events=\"none\" stroke=\"#9673a6\" stroke-dasharray=\"3 3\" width=\"700\" x=\"131\" y=\"1\"/><g transform=\"translate(133.5,528.5)\"><switch><foreignObject height=\"18\" pointer-events=\"all\" requiredFeatures=\"http://www.w3.org/TR/SVG11/feature#Extensibility\" style=\"overflow:visible;\" width=\"122\"><div style=\"display: inline-block; font-size: 17px; font-family: &quot;Courier New&quot;; color: rgb(0, 0, 0); line-height: 1.2; vertical-align: top; width: 123px; white-space: nowrap; word-wrap: normal;\" xmlns=\"http://www.w3.org/1999/xhtml\"><div style=\"display:inline-block;text-align:inherit;text-decoration:inherit;\" xmlns=\"http://www.w3.org/1999/xhtml\">SCIKIT_LEARN</div></div></foreignObject><text fill=\"#000000\" font-family=\"Courier New\" font-size=\"17px\" text-anchor=\"middle\" x=\"61\" y=\"18\">SCIKIT_LEARN</text></switch></g><rect fill=\"url(#mx-gradient-e1d5e7-1-ffffff-1-s-0)\" height=\"410\" pointer-events=\"none\" stroke=\"#9673a6\" stroke-dasharray=\"3 3\" width=\"170\" x=\"1\" y=\"81\"/><g transform=\"translate(106.5,468.5)\"><switch><foreignObject height=\"18\" pointer-events=\"all\" requiredFeatures=\"http://www.w3.org/TR/SVG11/feature#Extensibility\" style=\"overflow:visible;\" width=\"61\"><div style=\"display: inline-block; font-size: 17px; font-family: &quot;Courier New&quot;; color: rgb(0, 0, 0); line-height: 1.2; vertical-align: top; width: 62px; white-space: nowrap; word-wrap: normal; text-align: right;\" xmlns=\"http://www.w3.org/1999/xhtml\"><div style=\"display:inline-block;text-align:inherit;text-decoration:inherit;\" xmlns=\"http://www.w3.org/1999/xhtml\">PANDAS</div></div></foreignObject><text fill=\"#000000\" font-family=\"Courier New\" font-size=\"17px\" text-anchor=\"middle\" x=\"31\" y=\"18\">PANDAS</text></switch></g><path d=\"M 121 321 L 184.63 321\" fill=\"none\" pointer-events=\"none\" stroke=\"#000000\" stroke-miterlimit=\"10\"/><path d=\"M 189.88 321 L 182.88 324.5 L 184.63 321 L 182.88 317.5 Z\" fill=\"#000000\" pointer-events=\"none\" stroke=\"#000000\" stroke-miterlimit=\"10\"/><rect fill=\"#fff2cc\" height=\"60\" pointer-events=\"none\" stroke=\"#d6b656\" width=\"80\" x=\"41\" y=\"291\"/><g transform=\"translate(62.5,314.5)\"><switch><foreignObject height=\"12\" pointer-events=\"all\" requiredFeatures=\"http://www.w3.org/TR/SVG11/feature#Extensibility\" style=\"overflow:visible;\" width=\"36\"><div style=\"display: inline-block; font-size: 12px; font-family: Helvetica; color: rgb(0, 0, 0); line-height: 1.2; vertical-align: top; width: 36px; white-space: nowrap; word-wrap: normal; text-align: center;\" xmlns=\"http://www.w3.org/1999/xhtml\"><div style=\"display:inline-block;text-align:inherit;text-decoration:inherit;\" xmlns=\"http://www.w3.org/1999/xhtml\">Labels</div></div></foreignObject><text fill=\"#000000\" font-family=\"Helvetica\" font-size=\"12px\" text-anchor=\"middle\" x=\"18\" y=\"12\">Labels</text></switch></g><path d=\"M 121 221 L 184.63 221\" fill=\"none\" pointer-events=\"none\" stroke=\"#000000\" stroke-miterlimit=\"10\"/><path d=\"M 189.88 221 L 182.88 224.5 L 184.63 221 L 182.88 217.5 Z\" fill=\"#000000\" pointer-events=\"none\" stroke=\"#000000\" stroke-miterlimit=\"10\"/><rect fill=\"#fff2cc\" height=\"60\" pointer-events=\"none\" stroke=\"#d6b656\" width=\"80\" x=\"41\" y=\"191\"/><g transform=\"translate(67.5,214.5)\"><switch><foreignObject height=\"12\" pointer-events=\"all\" requiredFeatures=\"http://www.w3.org/TR/SVG11/feature#Extensibility\" style=\"overflow:visible;\" width=\"26\"><div style=\"display: inline-block; font-size: 12px; font-family: Helvetica; color: rgb(0, 0, 0); line-height: 1.2; vertical-align: top; width: 26px; white-space: nowrap; word-wrap: normal; text-align: center;\" xmlns=\"http://www.w3.org/1999/xhtml\"><div style=\"display:inline-block;text-align:inherit;text-decoration:inherit;\" xmlns=\"http://www.w3.org/1999/xhtml\">Data</div></div></foreignObject><text fill=\"#000000\" font-family=\"Helvetica\" font-size=\"12px\" text-anchor=\"middle\" x=\"13\" y=\"12\">Data</text></switch></g><rect fill=\"#f8cecc\" height=\"60\" pointer-events=\"none\" stroke=\"#b85450\" width=\"70\" x=\"191\" y=\"191\"/><g transform=\"translate(201.5,214.5)\"><switch><foreignObject height=\"12\" pointer-events=\"all\" requiredFeatures=\"http://www.w3.org/TR/SVG11/feature#Extensibility\" style=\"overflow:visible;\" width=\"48\"><div style=\"display: inline-block; font-size: 12px; font-family: Helvetica; color: rgb(0, 0, 0); line-height: 1.2; vertical-align: top; width: 48px; white-space: nowrap; word-wrap: normal; text-align: center;\" xmlns=\"http://www.w3.org/1999/xhtml\"><div style=\"display:inline-block;text-align:inherit;text-decoration:inherit;\" xmlns=\"http://www.w3.org/1999/xhtml\">Features</div></div></foreignObject><text fill=\"#000000\" font-family=\"Helvetica\" font-size=\"12px\" text-anchor=\"middle\" x=\"24\" y=\"12\">Features</text></switch></g><rect fill=\"#f8cecc\" height=\"60\" pointer-events=\"none\" stroke=\"#b85450\" width=\"70\" x=\"191\" y=\"291\"/><g transform=\"translate(207.5,314.5)\"><switch><foreignObject height=\"12\" pointer-events=\"all\" requiredFeatures=\"http://www.w3.org/TR/SVG11/feature#Extensibility\" style=\"overflow:visible;\" width=\"36\"><div style=\"display: inline-block; font-size: 12px; font-family: Helvetica; color: rgb(0, 0, 0); line-height: 1.2; vertical-align: top; width: 36px; white-space: nowrap; word-wrap: normal; text-align: center;\" xmlns=\"http://www.w3.org/1999/xhtml\"><div style=\"display:inline-block;text-align:inherit;text-decoration:inherit;\" xmlns=\"http://www.w3.org/1999/xhtml\">Labels</div></div></foreignObject><text fill=\"#000000\" font-family=\"Helvetica\" font-size=\"12px\" text-anchor=\"middle\" x=\"18\" y=\"12\">Labels</text></switch></g><path d=\"M 261 221 L 307.3 156.18\" fill=\"none\" pointer-events=\"none\" stroke=\"#000000\" stroke-miterlimit=\"10\"/><path d=\"M 310.35 151.91 L 309.13 159.64 L 307.3 156.18 L 303.43 155.57 Z\" fill=\"#000000\" pointer-events=\"none\" stroke=\"#000000\" stroke-miterlimit=\"10\"/><rect fill=\"#f8cecc\" height=\"60\" pointer-events=\"none\" stroke=\"#b85450\" width=\"120\" x=\"311\" y=\"121\"/><g transform=\"translate(353.5,144.5)\"><switch><foreignObject height=\"12\" pointer-events=\"all\" requiredFeatures=\"http://www.w3.org/TR/SVG11/feature#Extensibility\" style=\"overflow:visible;\" width=\"34\"><div style=\"display: inline-block; font-size: 12px; font-family: Helvetica; color: rgb(0, 0, 0); line-height: 1.2; vertical-align: top; width: 36px; white-space: nowrap; word-wrap: normal; text-align: center;\" xmlns=\"http://www.w3.org/1999/xhtml\"><div style=\"display:inline-block;text-align:inherit;text-decoration:inherit;\" xmlns=\"http://www.w3.org/1999/xhtml\">X_test</div></div></foreignObject><text fill=\"#000000\" font-family=\"Helvetica\" font-size=\"12px\" text-anchor=\"middle\" x=\"17\" y=\"12\">X_test</text></switch></g><path d=\"M 431 221 L 511 221 L 511 234.63\" fill=\"none\" pointer-events=\"none\" stroke=\"#000000\" stroke-miterlimit=\"10\"/><path d=\"M 511 239.88 L 507.5 232.88 L 511 234.63 L 514.5 232.88 Z\" fill=\"#000000\" pointer-events=\"none\" stroke=\"#000000\" stroke-miterlimit=\"10\"/><rect fill=\"#f8cecc\" height=\"60\" pointer-events=\"none\" stroke=\"#b85450\" width=\"120\" x=\"311\" y=\"191\"/><g transform=\"translate(351.5,214.5)\"><switch><foreignObject height=\"12\" pointer-events=\"all\" requiredFeatures=\"http://www.w3.org/TR/SVG11/feature#Extensibility\" style=\"overflow:visible;\" width=\"38\"><div style=\"display: inline-block; font-size: 12px; font-family: Helvetica; color: rgb(0, 0, 0); line-height: 1.2; vertical-align: top; width: 40px; white-space: nowrap; word-wrap: normal; text-align: center;\" xmlns=\"http://www.w3.org/1999/xhtml\"><div style=\"display:inline-block;text-align:inherit;text-decoration:inherit;\" xmlns=\"http://www.w3.org/1999/xhtml\">X_train</div></div></foreignObject><text fill=\"#000000\" font-family=\"Helvetica\" font-size=\"12px\" text-anchor=\"middle\" x=\"19\" y=\"12\">X_train</text></switch></g><path d=\"M 261 221 L 304.63 221\" fill=\"none\" pointer-events=\"none\" stroke=\"#000000\" stroke-miterlimit=\"10\"/><path d=\"M 309.88 221 L 302.88 224.5 L 304.63 221 L 302.88 217.5 Z\" fill=\"#000000\" pointer-events=\"none\" stroke=\"#000000\" stroke-miterlimit=\"10\"/><path d=\"M 261 321 L 304.63 321\" fill=\"none\" pointer-events=\"none\" stroke=\"#000000\" stroke-miterlimit=\"10\"/><path d=\"M 309.88 321 L 302.88 324.5 L 304.63 321 L 302.88 317.5 Z\" fill=\"#000000\" pointer-events=\"none\" stroke=\"#000000\" stroke-miterlimit=\"10\"/><path d=\"M 431 321 L 511 321 L 511 307.37\" fill=\"none\" pointer-events=\"none\" stroke=\"#000000\" stroke-miterlimit=\"10\"/><path d=\"M 511 302.12 L 514.5 309.12 L 511 307.37 L 507.5 309.12 Z\" fill=\"#000000\" pointer-events=\"none\" stroke=\"#000000\" stroke-miterlimit=\"10\"/><rect fill=\"#f8cecc\" height=\"60\" pointer-events=\"none\" stroke=\"#b85450\" width=\"120\" x=\"311\" y=\"291\"/><g transform=\"translate(352.5,314.5)\"><switch><foreignObject height=\"12\" pointer-events=\"all\" requiredFeatures=\"http://www.w3.org/TR/SVG11/feature#Extensibility\" style=\"overflow:visible;\" width=\"36\"><div style=\"display: inline-block; font-size: 12px; font-family: Helvetica; color: rgb(0, 0, 0); line-height: 1.2; vertical-align: top; width: 38px; white-space: nowrap; word-wrap: normal; text-align: center;\" xmlns=\"http://www.w3.org/1999/xhtml\"><div style=\"display:inline-block;text-align:inherit;text-decoration:inherit;\" xmlns=\"http://www.w3.org/1999/xhtml\">y_train</div></div></foreignObject><text fill=\"#000000\" font-family=\"Helvetica\" font-size=\"12px\" text-anchor=\"middle\" x=\"18\" y=\"12\">y_train</text></switch></g><rect fill=\"#f8cecc\" height=\"60\" pointer-events=\"none\" stroke=\"#b85450\" width=\"120\" x=\"311\" y=\"361\"/><g transform=\"translate(354.5,384.5)\"><switch><foreignObject height=\"12\" pointer-events=\"all\" requiredFeatures=\"http://www.w3.org/TR/SVG11/feature#Extensibility\" style=\"overflow:visible;\" width=\"32\"><div style=\"display: inline-block; font-size: 12px; font-family: Helvetica; color: rgb(0, 0, 0); line-height: 1.2; vertical-align: top; width: 34px; white-space: nowrap; word-wrap: normal; text-align: center;\" xmlns=\"http://www.w3.org/1999/xhtml\"><div style=\"display:inline-block;text-align:inherit;text-decoration:inherit;\" xmlns=\"http://www.w3.org/1999/xhtml\">y_test</div></div></foreignObject><text fill=\"#000000\" font-family=\"Helvetica\" font-size=\"12px\" text-anchor=\"middle\" x=\"16\" y=\"12\">y_test</text></switch></g><path d=\"M 261 321 L 307.3 385.82\" fill=\"none\" pointer-events=\"none\" stroke=\"#000000\" stroke-miterlimit=\"10\"/><path d=\"M 310.35 390.09 L 303.43 386.43 L 307.3 385.82 L 309.13 382.36 Z\" fill=\"#000000\" pointer-events=\"none\" stroke=\"#000000\" stroke-miterlimit=\"10\"/><rect fill=\"#dae8fc\" height=\"60\" pointer-events=\"none\" rx=\"9\" ry=\"9\" stroke=\"#6c8ebf\" width=\"120\" x=\"481\" y=\"241\"/><g transform=\"translate(499.5,264.5)\"><switch><foreignObject height=\"12\" pointer-events=\"all\" requiredFeatures=\"http://www.w3.org/TR/SVG11/feature#Extensibility\" style=\"overflow:visible;\" width=\"82\"><div style=\"display: inline-block; font-size: 12px; font-family: Helvetica; color: rgb(0, 0, 0); line-height: 1.2; vertical-align: top; width: 84px; white-space: nowrap; word-wrap: normal; text-align: center;\" xmlns=\"http://www.w3.org/1999/xhtml\"><div style=\"display:inline-block;text-align:inherit;text-decoration:inherit;\" xmlns=\"http://www.w3.org/1999/xhtml\">classifier model</div></div></foreignObject><text fill=\"#000000\" font-family=\"Helvetica\" font-size=\"12px\" text-anchor=\"middle\" x=\"41\" y=\"12\">classifier model</text></switch></g><path d=\"M 631 181 L 631 354.63\" fill=\"none\" pointer-events=\"none\" stroke=\"#000000\" stroke-miterlimit=\"10\"/><path d=\"M 631 359.88 L 627.5 352.88 L 631 354.63 L 634.5 352.88 Z\" fill=\"#000000\" pointer-events=\"none\" stroke=\"#000000\" stroke-miterlimit=\"10\"/><rect fill=\"#d5e8d4\" height=\"60\" pointer-events=\"none\" rx=\"9\" ry=\"9\" stroke=\"#82b366\" width=\"120\" x=\"571\" y=\"121\"/><g transform=\"translate(601.5,144.5)\"><switch><foreignObject height=\"12\" pointer-events=\"all\" requiredFeatures=\"http://www.w3.org/TR/SVG11/feature#Extensibility\" style=\"overflow:visible;\" width=\"58\"><div style=\"display: inline-block; font-size: 12px; font-family: Helvetica; color: rgb(0, 0, 0); line-height: 1.2; vertical-align: top; width: 60px; white-space: nowrap; word-wrap: normal; text-align: center;\" xmlns=\"http://www.w3.org/1999/xhtml\"><div style=\"display:inline-block;text-align:inherit;text-decoration:inherit;\" xmlns=\"http://www.w3.org/1999/xhtml\">predictions</div></div></foreignObject><text fill=\"#000000\" font-family=\"Helvetica\" font-size=\"12px\" text-anchor=\"middle\" x=\"29\" y=\"12\">predictions</text></switch></g><path d=\"M 431 151 L 564.63 151\" fill=\"none\" pointer-events=\"none\" stroke=\"#000000\" stroke-miterlimit=\"10\"/><path d=\"M 569.88 151 L 562.88 154.5 L 564.63 151 L 562.88 147.5 Z\" fill=\"#000000\" pointer-events=\"none\" stroke=\"#000000\" stroke-miterlimit=\"10\"/><path d=\"M 541 241 L 541 157.37\" fill=\"none\" pointer-events=\"none\" stroke=\"#000000\" stroke-miterlimit=\"10\"/><path d=\"M 541 152.12 L 544.5 159.12 L 541 157.37 L 537.5 159.12 Z\" fill=\"#000000\" pointer-events=\"none\" stroke=\"#000000\" stroke-miterlimit=\"10\"/><rect fill=\"#f5f5f5\" height=\"60\" pointer-events=\"none\" stroke=\"#666666\" transform=\"rotate(180,631,391)\" width=\"120\" x=\"571\" y=\"361\"/><g transform=\"translate(603.5,384.5)\"><switch><foreignObject height=\"12\" pointer-events=\"all\" requiredFeatures=\"http://www.w3.org/TR/SVG11/feature#Extensibility\" style=\"overflow:visible;\" width=\"54\"><div style=\"display: inline-block; font-size: 12px; font-family: Helvetica; color: rgb(0, 0, 0); line-height: 1.2; vertical-align: top; width: 56px; white-space: nowrap; word-wrap: normal; text-align: center;\" xmlns=\"http://www.w3.org/1999/xhtml\"><div style=\"display:inline-block;text-align:inherit;text-decoration:inherit;\" xmlns=\"http://www.w3.org/1999/xhtml\">evaluation</div></div></foreignObject><text fill=\"#000000\" font-family=\"Helvetica\" font-size=\"12px\" text-anchor=\"middle\" x=\"27\" y=\"12\">evaluation</text></switch></g><path d=\"M 431 391 L 564.63 391\" fill=\"none\" pointer-events=\"none\" stroke=\"#000000\" stroke-miterlimit=\"10\"/><path d=\"M 569.88 391 L 562.88 394.5 L 564.63 391 L 562.88 387.5 Z\" fill=\"#000000\" pointer-events=\"none\" stroke=\"#000000\" stroke-miterlimit=\"10\"/><path d=\"M 161 381 L 161 327.37\" fill=\"none\" pointer-events=\"none\" stroke=\"#000000\" stroke-miterlimit=\"10\"/><path d=\"M 161 322.12 L 164.5 329.12 L 161 327.37 L 157.5 329.12 Z\" fill=\"#000000\" pointer-events=\"none\" stroke=\"#000000\" stroke-miterlimit=\"10\"/><path d=\"M 241 389.57 L 241 441 L 81 441 L 81 381 L 218.14 381 Z\" fill=\"#ffe6cc\" pointer-events=\"none\" stroke=\"#d79b00\" stroke-miterlimit=\"10\" stroke-width=\"2\"/><path d=\"M 218.14 381 C 220 383.01 216.94 385.07 209.98 386.51 L 241 389.57\" fill=\"none\" pointer-events=\"none\" stroke=\"#d79b00\" stroke-miterlimit=\"10\" stroke-width=\"2\"/><g transform=\"translate(98.5,401.5)\"><switch><foreignObject height=\"18\" pointer-events=\"all\" requiredFeatures=\"http://www.w3.org/TR/SVG11/feature#Extensibility\" style=\"overflow:visible;\" width=\"123\"><div style=\"display: inline-block; font-size: 17px; font-family: &quot;Courier New&quot;; color: rgb(0, 0, 0); line-height: 1.2; vertical-align: top; width: 123px; white-space: nowrap; word-wrap: normal; text-align: center;\" xmlns=\"http://www.w3.org/1999/xhtml\"><div style=\"display:inline-block;text-align:inherit;text-decoration:inherit;\" xmlns=\"http://www.w3.org/1999/xhtml\">LabelEncoder</div></div></foreignObject><text fill=\"#000000\" font-family=\"Courier New\" font-size=\"17px\" text-anchor=\"middle\" x=\"62\" y=\"18\">LabelEncoder</text></switch></g><path d=\"M 161 161 L 161 214.63\" fill=\"none\" pointer-events=\"none\" stroke=\"#000000\" stroke-miterlimit=\"10\"/><path d=\"M 161 219.88 L 157.5 212.88 L 161 214.63 L 164.5 212.88 Z\" fill=\"#000000\" pointer-events=\"none\" stroke=\"#000000\" stroke-miterlimit=\"10\"/><path d=\"M 261 118.14 L 261 161 L 61 161 L 61 111 L 232.43 111 Z\" fill=\"#ffe6cc\" pointer-events=\"none\" stroke=\"#d79b00\" stroke-miterlimit=\"10\" stroke-width=\"2\"/><path d=\"M 232.43 111 C 234.76 112.67 230.93 114.39 222.22 115.59 L 261 118.14\" fill=\"none\" pointer-events=\"none\" stroke=\"#d79b00\" stroke-miterlimit=\"10\" stroke-width=\"2\"/><g transform=\"translate(68.5,126.5)\"><switch><foreignObject height=\"18\" pointer-events=\"all\" requiredFeatures=\"http://www.w3.org/TR/SVG11/feature#Extensibility\" style=\"overflow:visible;\" width=\"183\"><div style=\"display: inline-block; font-size: 17px; font-family: &quot;Courier New&quot;; color: rgb(0, 0, 0); line-height: 1.2; vertical-align: top; width: 185px; white-space: nowrap; word-wrap: normal; text-align: center;\" xmlns=\"http://www.w3.org/1999/xhtml\"><div style=\"display:inline-block;text-align:inherit;text-decoration:inherit;\" xmlns=\"http://www.w3.org/1999/xhtml\">FeatureTransformer</div></div></foreignObject><text fill=\"#000000\" font-family=\"Courier New\" font-size=\"17px\" text-anchor=\"middle\" x=\"92\" y=\"18\">FeatureTransformer</text></switch></g><path d=\"M 301 71 L 301 126 L 291 126 L 291 174.63\" fill=\"none\" pointer-events=\"none\" stroke=\"#000000\" stroke-miterlimit=\"10\"/><path d=\"M 291 179.88 L 287.5 172.88 L 291 174.63 L 294.5 172.88 Z\" fill=\"#000000\" pointer-events=\"none\" stroke=\"#000000\" stroke-miterlimit=\"10\"/><path d=\"M 401 28.14 L 401 71 L 201 71 L 201 21 L 372.43 21 Z\" fill=\"#ffe6cc\" pointer-events=\"none\" stroke=\"#d79b00\" stroke-miterlimit=\"10\" stroke-width=\"2\"/><path d=\"M 372.43 21 C 374.76 22.67 370.93 24.39 362.22 25.59 L 401 28.14\" fill=\"none\" pointer-events=\"none\" stroke=\"#d79b00\" stroke-miterlimit=\"10\" stroke-width=\"2\"/><g transform=\"translate(218.5,36.5)\"><switch><foreignObject height=\"18\" pointer-events=\"all\" requiredFeatures=\"http://www.w3.org/TR/SVG11/feature#Extensibility\" style=\"overflow:visible;\" width=\"163\"><div style=\"display: inline-block; font-size: 17px; font-family: &quot;Courier New&quot;; color: rgb(0, 0, 0); line-height: 1.2; vertical-align: top; width: 165px; white-space: nowrap; word-wrap: normal; text-align: center;\" xmlns=\"http://www.w3.org/1999/xhtml\"><div style=\"display:inline-block;text-align:inherit;text-decoration:inherit;\" xmlns=\"http://www.w3.org/1999/xhtml\">train_test_split</div></div></foreignObject><text fill=\"#000000\" font-family=\"Courier New\" font-size=\"17px\" text-anchor=\"middle\" x=\"82\" y=\"18\">train_test_split</text></switch></g><path d=\"M 571 81 L 571 111 L 471 111 L 471 214.63\" fill=\"none\" pointer-events=\"none\" stroke=\"#000000\" stroke-miterlimit=\"10\"/><path d=\"M 471 219.88 L 467.5 212.88 L 471 214.63 L 474.5 212.88 Z\" fill=\"#000000\" pointer-events=\"none\" stroke=\"#000000\" stroke-miterlimit=\"10\"/><path d=\"M 671 38.14 L 671 81 L 471 81 L 471 31 L 642.43 31 Z\" fill=\"#ffe6cc\" pointer-events=\"none\" stroke=\"#d79b00\" stroke-miterlimit=\"10\" stroke-width=\"2\"/><path d=\"M 642.43 31 C 644.76 32.67 640.93 34.39 632.22 35.59 L 671 38.14\" fill=\"none\" pointer-events=\"none\" stroke=\"#d79b00\" stroke-miterlimit=\"10\" stroke-width=\"2\"/><g transform=\"translate(524.5,46.5)\"><switch><foreignObject height=\"18\" pointer-events=\"all\" requiredFeatures=\"http://www.w3.org/TR/SVG11/feature#Extensibility\" style=\"overflow:visible;\" width=\"91\"><div style=\"display: inline-block; font-size: 17px; font-family: &quot;Courier New&quot;; color: rgb(0, 0, 0); line-height: 1.2; vertical-align: top; width: 93px; white-space: nowrap; word-wrap: normal; text-align: center;\" xmlns=\"http://www.w3.org/1999/xhtml\"><div style=\"display:inline-block;text-align:inherit;text-decoration:inherit;\" xmlns=\"http://www.w3.org/1999/xhtml\">model.fit</div></div></foreignObject><text fill=\"#000000\" font-family=\"Courier New\" font-size=\"17px\" text-anchor=\"middle\" x=\"46\" y=\"18\">model.fit</text></switch></g><path d=\"M 661 216 L 601 216 L 601 201 L 547.37 201\" fill=\"none\" pointer-events=\"none\" stroke=\"#000000\" stroke-miterlimit=\"10\"/><path d=\"M 542.12 201 L 549.12 197.5 L 547.37 201 L 549.12 204.5 Z\" fill=\"#000000\" pointer-events=\"none\" stroke=\"#000000\" stroke-miterlimit=\"10\"/><path d=\"M 821 198.14 L 821 241 L 661 241 L 661 191 L 798.14 191 Z\" fill=\"#ffe6cc\" pointer-events=\"none\" stroke=\"#d79b00\" stroke-miterlimit=\"10\" stroke-width=\"2\"/><path d=\"M 798.14 191 C 800 192.67 796.94 194.39 789.98 195.59 L 821 198.14\" fill=\"none\" pointer-events=\"none\" stroke=\"#d79b00\" stroke-miterlimit=\"10\" stroke-width=\"2\"/><g transform=\"translate(673.5,206.5)\"><switch><foreignObject height=\"18\" pointer-events=\"all\" requiredFeatures=\"http://www.w3.org/TR/SVG11/feature#Extensibility\" style=\"overflow:visible;\" width=\"133\"><div style=\"display: inline-block; font-size: 17px; font-family: &quot;Courier New&quot;; color: rgb(0, 0, 0); line-height: 1.2; vertical-align: top; width: 133px; white-space: nowrap; word-wrap: normal; text-align: center;\" xmlns=\"http://www.w3.org/1999/xhtml\"><div style=\"display:inline-block;text-align:inherit;text-decoration:inherit;\" xmlns=\"http://www.w3.org/1999/xhtml\">model.predict</div></div></foreignObject><text fill=\"#000000\" font-family=\"Courier New\" font-size=\"17px\" text-anchor=\"middle\" x=\"67\" y=\"18\">model.predict</text></switch></g><path d=\"M 761 458.14 L 761 501 L 521 501 L 521 451 L 726.71 451 Z\" fill=\"#ffe6cc\" pointer-events=\"none\" stroke=\"#d79b00\" stroke-miterlimit=\"10\" stroke-width=\"2\"/><path d=\"M 726.71 451 C 729.51 452.67 724.91 454.39 714.47 455.59 L 761 458.14\" fill=\"none\" pointer-events=\"none\" stroke=\"#d79b00\" stroke-miterlimit=\"10\" stroke-width=\"2\"/><g transform=\"translate(532.5,466.5)\"><switch><foreignObject height=\"18\" pointer-events=\"all\" requiredFeatures=\"http://www.w3.org/TR/SVG11/feature#Extensibility\" style=\"overflow:visible;\" width=\"215\"><div style=\"display: inline-block; font-size: 17px; font-family: &quot;Courier New&quot;; color: rgb(0, 0, 0); line-height: 1.2; vertical-align: top; width: 215px; white-space: nowrap; word-wrap: normal; text-align: center;\" xmlns=\"http://www.w3.org/1999/xhtml\"><div style=\"display:inline-block;text-align:inherit;text-decoration:inherit;\" xmlns=\"http://www.w3.org/1999/xhtml\">classification_report</div></div></foreignObject><text fill=\"#000000\" font-family=\"Courier New\" font-size=\"17px\" text-anchor=\"middle\" x=\"108\" y=\"18\">classification_report</text></switch></g><path d=\"M 631 276 L 631 271 L 607.37 271\" fill=\"none\" pointer-events=\"none\" stroke=\"#000000\" stroke-miterlimit=\"10\"/><path d=\"M 602.12 271 L 609.12 267.5 L 607.37 271 L 609.12 274.5 Z\" fill=\"#000000\" pointer-events=\"none\" stroke=\"#000000\" stroke-miterlimit=\"10\"/><path d=\"M 831 258.14 L 831 301 L 631 301 L 631 251 L 802.43 251 Z\" fill=\"#ffe6cc\" pointer-events=\"none\" stroke=\"#d79b00\" stroke-miterlimit=\"10\" stroke-width=\"2\"/><path d=\"M 802.43 251 C 804.76 252.67 800.93 254.39 792.22 255.59 L 831 258.14\" fill=\"none\" pointer-events=\"none\" stroke=\"#d79b00\" stroke-miterlimit=\"10\" stroke-width=\"2\"/><g transform=\"translate(638.5,256.5)\"><switch><foreignObject height=\"38\" pointer-events=\"all\" requiredFeatures=\"http://www.w3.org/TR/SVG11/feature#Extensibility\" style=\"overflow:visible;\" width=\"183\"><div style=\"display: inline-block; font-size: 17px; font-family: &quot;Courier New&quot;; color: rgb(0, 0, 0); line-height: 1.2; vertical-align: top; width: 185px; white-space: nowrap; word-wrap: normal; text-align: center;\" xmlns=\"http://www.w3.org/1999/xhtml\"><div style=\"display:inline-block;text-align:inherit;text-decoration:inherit;\" xmlns=\"http://www.w3.org/1999/xhtml\">LogisticRegression<br/>MNBayes</div></div></foreignObject><text fill=\"#000000\" font-family=\"Courier New\" font-size=\"17px\" text-anchor=\"middle\" x=\"92\" y=\"28\">LogisticRegression&lt;br&gt;MNBayes</text></switch></g></g></svg>"
      ],
      "text/plain": [
       "<IPython.core.display.SVG object>"
      ]
     },
     "metadata": {},
     "output_type": "display_data"
    }
   ],
   "source": [
    "display(SVG('./figure/scikit-learn-flow-packages.svg'))"
   ]
  },
  {
   "cell_type": "code",
   "execution_count": 84,
   "metadata": {
    "collapsed": false,
    "slideshow": {
     "slide_type": "subslide"
    }
   },
   "outputs": [
    {
     "data": {
      "text/plain": [
       "((15977L, 3L), (3995L,))"
      ]
     },
     "execution_count": 84,
     "metadata": {},
     "output_type": "execute_result"
    }
   ],
   "source": [
    "from sklearn.cross_validation import train_test_split\n",
    "\n",
    "X_train, X_test, y_train, y_test = train_test_split(X, y, test_size=.2, random_state=42)\n",
    "\n",
    "X_train.shape, y_test.shape"
   ]
  },
  {
   "cell_type": "code",
   "execution_count": 91,
   "metadata": {
    "collapsed": false,
    "slideshow": {
     "slide_type": "subslide"
    }
   },
   "outputs": [
    {
     "name": "stdout",
     "output_type": "stream",
     "text": [
      "             precision    recall  f1-score   support\n",
      "\n",
      "          0       0.60      0.08      0.13      1989\n",
      "          1       0.51      0.95      0.66      2006\n",
      "\n",
      "avg / total       0.56      0.51      0.40      3995\n",
      "\n"
     ]
    }
   ],
   "source": [
    "from sklearn.linear_model import LogisticRegression\n",
    "from sklearn.metrics import classification_report\n",
    "\n",
    "classifier = LogisticRegression()\n",
    "classifier.fit(X_train, y_train)\n",
    "predictions = classifier.predict(X_test)\n",
    "print\n",
    "print(classification_report(y_test, predictions))"
   ]
  },
  {
   "cell_type": "code",
   "execution_count": 92,
   "metadata": {
    "collapsed": false,
    "slideshow": {
     "slide_type": "subslide"
    }
   },
   "outputs": [
    {
     "data": {
      "text/plain": [
       "array([0])"
      ]
     },
     "execution_count": 92,
     "metadata": {},
     "output_type": "execute_result"
    }
   ],
   "source": [
    "sent = 'In de krant staan onzinnige zaken vermeld.'\n",
    "\n",
    "feats = [get_features(sent, letter='e'), get_features(sent, letter='g'), get_features(sent, letter='c')]\n",
    "\n",
    "classifier.predict([feats])"
   ]
  },
  {
   "cell_type": "code",
   "execution_count": 93,
   "metadata": {
    "collapsed": false,
    "slideshow": {
     "slide_type": "skip"
    }
   },
   "outputs": [
    {
     "data": {
      "image/png": "[encoded data removed]",
      "text/plain": [
       "<matplotlib.figure.Figure at 0x10bd1a20>"
      ]
     },
     "metadata": {},
     "output_type": "display_data"
    }
   ],
   "source": [
    "xx, yy = np.mgrid[0:1:.01, 0:1:.01]\n",
    "grid = np.c_[xx.ravel(), yy.ravel()]\n",
    "grid = np.hstack([np.ones(grid.shape[0]).reshape(-1, 1) * .3, grid])\n",
    "\n",
    "probs = classifier.predict_proba(grid)[:, 1].reshape(xx.shape)\n",
    "\n",
    "f, ax = plt.subplots(figsize=(8, 6))\n",
    "contour = ax.contourf(xx, yy, probs, 25, cmap=\"RdBu\",\n",
    "                      vmin=0, vmax=1)\n",
    "\n",
    "ax_c = f.colorbar(contour)\n",
    "ax_c.set_label(\"P(y = 1)\")\n",
    "ax_c.set_ticks([0, .25, .5, .75, 1])\n",
    "\n",
    "ax.scatter(X[100:,0], X[100:, 1], c=y[100:], s=50,\n",
    "           cmap=\"RdBu\", vmin=-.2, vmax=1.2,\n",
    "           edgecolor=\"white\", linewidth=1)\n",
    "\n",
    "ax.set(aspect=\"equal\",\n",
    "       xlim=(0, 1), ylim=(0, 1),\n",
    "       xlabel=\"count_g\", ylabel=\"count_c\");"
   ]
  },
  {
   "cell_type": "markdown",
   "metadata": {
    "slideshow": {
     "slide_type": "slide"
    }
   },
   "source": [
    "## Summary\n",
    "\n",
    "We have now built a very simple classifier. It works, not very well, but we want to tune the features and the classifier. "
   ]
  },
  {
   "cell_type": "code",
   "execution_count": 94,
   "metadata": {
    "collapsed": false,
    "slideshow": {
     "slide_type": "subslide"
    }
   },
   "outputs": [
    {
     "data": {
      "image/svg+xml": [
       "<svg content=\"&lt;mxfile userAgent=&quot;Mozilla/5.0 (X11; Linux x86_64) AppleWebKit/537.36 (KHTML, like Gecko) Chrome/53.0.2785.116 Safari/537.36&quot; version=&quot;5.7.0.9&quot; editor=&quot;www.draw.io&quot; type=&quot;device&quot;&gt;&lt;diagram&gt;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&lt;/diagram&gt;&lt;/mxfile&gt;\" height=\"553px\" style=\"background-color: rgb(255, 255, 255);\" version=\"1.1\" width=\"834px\" xmlns=\"http://www.w3.org/2000/svg\" xmlns:xlink=\"http://www.w3.org/1999/xlink\"><defs><linearGradient id=\"mx-gradient-d4e1f5-1-ffffff-1-s-0\" x1=\"0%\" x2=\"0%\" y1=\"0%\" y2=\"100%\"><stop offset=\"0%\" style=\"stop-color:#D4E1F5\"/><stop offset=\"100%\" style=\"stop-color:#ffffff\"/></linearGradient><linearGradient id=\"mx-gradient-e1d5e7-1-ffffff-1-s-0\" x1=\"0%\" x2=\"0%\" y1=\"0%\" y2=\"100%\"><stop offset=\"0%\" style=\"stop-color:#e1d5e7\"/><stop offset=\"100%\" style=\"stop-color:#ffffff\"/></linearGradient></defs><g transform=\"translate(0.5,0.5)\"><rect fill=\"url(#mx-gradient-d4e1f5-1-ffffff-1-s-0)\" height=\"550\" pointer-events=\"none\" stroke=\"#9673a6\" stroke-dasharray=\"3 3\" width=\"700\" x=\"131\" y=\"1\"/><g transform=\"translate(133.5,528.5)\"><switch><foreignObject height=\"18\" pointer-events=\"all\" requiredFeatures=\"http://www.w3.org/TR/SVG11/feature#Extensibility\" style=\"overflow:visible;\" width=\"122\"><div style=\"display: inline-block; font-size: 17px; font-family: &quot;Courier New&quot;; color: rgb(0, 0, 0); line-height: 1.2; vertical-align: top; width: 123px; white-space: nowrap; word-wrap: normal;\" xmlns=\"http://www.w3.org/1999/xhtml\"><div style=\"display:inline-block;text-align:inherit;text-decoration:inherit;\" xmlns=\"http://www.w3.org/1999/xhtml\">SCIKIT_LEARN</div></div></foreignObject><text fill=\"#000000\" font-family=\"Courier New\" font-size=\"17px\" text-anchor=\"middle\" x=\"61\" y=\"18\">SCIKIT_LEARN</text></switch></g><rect fill=\"url(#mx-gradient-e1d5e7-1-ffffff-1-s-0)\" height=\"410\" pointer-events=\"none\" stroke=\"#9673a6\" stroke-dasharray=\"3 3\" width=\"170\" x=\"1\" y=\"81\"/><g transform=\"translate(106.5,468.5)\"><switch><foreignObject height=\"18\" pointer-events=\"all\" requiredFeatures=\"http://www.w3.org/TR/SVG11/feature#Extensibility\" style=\"overflow:visible;\" width=\"61\"><div style=\"display: inline-block; font-size: 17px; font-family: &quot;Courier New&quot;; color: rgb(0, 0, 0); line-height: 1.2; vertical-align: top; width: 62px; white-space: nowrap; word-wrap: normal; text-align: right;\" xmlns=\"http://www.w3.org/1999/xhtml\"><div style=\"display:inline-block;text-align:inherit;text-decoration:inherit;\" xmlns=\"http://www.w3.org/1999/xhtml\">PANDAS</div></div></foreignObject><text fill=\"#000000\" font-family=\"Courier New\" font-size=\"17px\" text-anchor=\"middle\" x=\"31\" y=\"18\">PANDAS</text></switch></g><path d=\"M 121 321 L 184.63 321\" fill=\"none\" pointer-events=\"none\" stroke=\"#000000\" stroke-miterlimit=\"10\"/><path d=\"M 189.88 321 L 182.88 324.5 L 184.63 321 L 182.88 317.5 Z\" fill=\"#000000\" pointer-events=\"none\" stroke=\"#000000\" stroke-miterlimit=\"10\"/><rect fill=\"#fff2cc\" height=\"60\" pointer-events=\"none\" stroke=\"#d6b656\" width=\"80\" x=\"41\" y=\"291\"/><g transform=\"translate(62.5,314.5)\"><switch><foreignObject height=\"12\" pointer-events=\"all\" requiredFeatures=\"http://www.w3.org/TR/SVG11/feature#Extensibility\" style=\"overflow:visible;\" width=\"36\"><div style=\"display: inline-block; font-size: 12px; font-family: Helvetica; color: rgb(0, 0, 0); line-height: 1.2; vertical-align: top; width: 36px; white-space: nowrap; word-wrap: normal; text-align: center;\" xmlns=\"http://www.w3.org/1999/xhtml\"><div style=\"display:inline-block;text-align:inherit;text-decoration:inherit;\" xmlns=\"http://www.w3.org/1999/xhtml\">Labels</div></div></foreignObject><text fill=\"#000000\" font-family=\"Helvetica\" font-size=\"12px\" text-anchor=\"middle\" x=\"18\" y=\"12\">Labels</text></switch></g><path d=\"M 121 221 L 184.63 221\" fill=\"none\" pointer-events=\"none\" stroke=\"#000000\" stroke-miterlimit=\"10\"/><path d=\"M 189.88 221 L 182.88 224.5 L 184.63 221 L 182.88 217.5 Z\" fill=\"#000000\" pointer-events=\"none\" stroke=\"#000000\" stroke-miterlimit=\"10\"/><rect fill=\"#fff2cc\" height=\"60\" pointer-events=\"none\" stroke=\"#d6b656\" width=\"80\" x=\"41\" y=\"191\"/><g transform=\"translate(67.5,214.5)\"><switch><foreignObject height=\"12\" pointer-events=\"all\" requiredFeatures=\"http://www.w3.org/TR/SVG11/feature#Extensibility\" style=\"overflow:visible;\" width=\"26\"><div style=\"display: inline-block; font-size: 12px; font-family: Helvetica; color: rgb(0, 0, 0); line-height: 1.2; vertical-align: top; width: 26px; white-space: nowrap; word-wrap: normal; text-align: center;\" xmlns=\"http://www.w3.org/1999/xhtml\"><div style=\"display:inline-block;text-align:inherit;text-decoration:inherit;\" xmlns=\"http://www.w3.org/1999/xhtml\">Data</div></div></foreignObject><text fill=\"#000000\" font-family=\"Helvetica\" font-size=\"12px\" text-anchor=\"middle\" x=\"13\" y=\"12\">Data</text></switch></g><rect fill=\"#f8cecc\" height=\"60\" pointer-events=\"none\" stroke=\"#b85450\" width=\"70\" x=\"191\" y=\"191\"/><g transform=\"translate(201.5,214.5)\"><switch><foreignObject height=\"12\" pointer-events=\"all\" requiredFeatures=\"http://www.w3.org/TR/SVG11/feature#Extensibility\" style=\"overflow:visible;\" width=\"48\"><div style=\"display: inline-block; font-size: 12px; font-family: Helvetica; color: rgb(0, 0, 0); line-height: 1.2; vertical-align: top; width: 48px; white-space: nowrap; word-wrap: normal; text-align: center;\" xmlns=\"http://www.w3.org/1999/xhtml\"><div style=\"display:inline-block;text-align:inherit;text-decoration:inherit;\" xmlns=\"http://www.w3.org/1999/xhtml\">Features</div></div></foreignObject><text fill=\"#000000\" font-family=\"Helvetica\" font-size=\"12px\" text-anchor=\"middle\" x=\"24\" y=\"12\">Features</text></switch></g><rect fill=\"#f8cecc\" height=\"60\" pointer-events=\"none\" stroke=\"#b85450\" width=\"70\" x=\"191\" y=\"291\"/><g transform=\"translate(207.5,314.5)\"><switch><foreignObject height=\"12\" pointer-events=\"all\" requiredFeatures=\"http://www.w3.org/TR/SVG11/feature#Extensibility\" style=\"overflow:visible;\" width=\"36\"><div style=\"display: inline-block; font-size: 12px; font-family: Helvetica; color: rgb(0, 0, 0); line-height: 1.2; vertical-align: top; width: 36px; white-space: nowrap; word-wrap: normal; text-align: center;\" xmlns=\"http://www.w3.org/1999/xhtml\"><div style=\"display:inline-block;text-align:inherit;text-decoration:inherit;\" xmlns=\"http://www.w3.org/1999/xhtml\">Labels</div></div></foreignObject><text fill=\"#000000\" font-family=\"Helvetica\" font-size=\"12px\" text-anchor=\"middle\" x=\"18\" y=\"12\">Labels</text></switch></g><path d=\"M 261 221 L 307.3 156.18\" fill=\"none\" pointer-events=\"none\" stroke=\"#000000\" stroke-miterlimit=\"10\"/><path d=\"M 310.35 151.91 L 309.13 159.64 L 307.3 156.18 L 303.43 155.57 Z\" fill=\"#000000\" pointer-events=\"none\" stroke=\"#000000\" stroke-miterlimit=\"10\"/><rect fill=\"#f8cecc\" height=\"60\" pointer-events=\"none\" stroke=\"#b85450\" width=\"120\" x=\"311\" y=\"121\"/><g transform=\"translate(353.5,144.5)\"><switch><foreignObject height=\"12\" pointer-events=\"all\" requiredFeatures=\"http://www.w3.org/TR/SVG11/feature#Extensibility\" style=\"overflow:visible;\" width=\"34\"><div style=\"display: inline-block; font-size: 12px; font-family: Helvetica; color: rgb(0, 0, 0); line-height: 1.2; vertical-align: top; width: 36px; white-space: nowrap; word-wrap: normal; text-align: center;\" xmlns=\"http://www.w3.org/1999/xhtml\"><div style=\"display:inline-block;text-align:inherit;text-decoration:inherit;\" xmlns=\"http://www.w3.org/1999/xhtml\">X_test</div></div></foreignObject><text fill=\"#000000\" font-family=\"Helvetica\" font-size=\"12px\" text-anchor=\"middle\" x=\"17\" y=\"12\">X_test</text></switch></g><path d=\"M 431 221 L 511 221 L 511 234.63\" fill=\"none\" pointer-events=\"none\" stroke=\"#000000\" stroke-miterlimit=\"10\"/><path d=\"M 511 239.88 L 507.5 232.88 L 511 234.63 L 514.5 232.88 Z\" fill=\"#000000\" pointer-events=\"none\" stroke=\"#000000\" stroke-miterlimit=\"10\"/><rect fill=\"#f8cecc\" height=\"60\" pointer-events=\"none\" stroke=\"#b85450\" width=\"120\" x=\"311\" y=\"191\"/><g transform=\"translate(351.5,214.5)\"><switch><foreignObject height=\"12\" pointer-events=\"all\" requiredFeatures=\"http://www.w3.org/TR/SVG11/feature#Extensibility\" style=\"overflow:visible;\" width=\"38\"><div style=\"display: inline-block; font-size: 12px; font-family: Helvetica; color: rgb(0, 0, 0); line-height: 1.2; vertical-align: top; width: 40px; white-space: nowrap; word-wrap: normal; text-align: center;\" xmlns=\"http://www.w3.org/1999/xhtml\"><div style=\"display:inline-block;text-align:inherit;text-decoration:inherit;\" xmlns=\"http://www.w3.org/1999/xhtml\">X_train</div></div></foreignObject><text fill=\"#000000\" font-family=\"Helvetica\" font-size=\"12px\" text-anchor=\"middle\" x=\"19\" y=\"12\">X_train</text></switch></g><path d=\"M 261 221 L 304.63 221\" fill=\"none\" pointer-events=\"none\" stroke=\"#000000\" stroke-miterlimit=\"10\"/><path d=\"M 309.88 221 L 302.88 224.5 L 304.63 221 L 302.88 217.5 Z\" fill=\"#000000\" pointer-events=\"none\" stroke=\"#000000\" stroke-miterlimit=\"10\"/><path d=\"M 261 321 L 304.63 321\" fill=\"none\" pointer-events=\"none\" stroke=\"#000000\" stroke-miterlimit=\"10\"/><path d=\"M 309.88 321 L 302.88 324.5 L 304.63 321 L 302.88 317.5 Z\" fill=\"#000000\" pointer-events=\"none\" stroke=\"#000000\" stroke-miterlimit=\"10\"/><path d=\"M 431 321 L 511 321 L 511 307.37\" fill=\"none\" pointer-events=\"none\" stroke=\"#000000\" stroke-miterlimit=\"10\"/><path d=\"M 511 302.12 L 514.5 309.12 L 511 307.37 L 507.5 309.12 Z\" fill=\"#000000\" pointer-events=\"none\" stroke=\"#000000\" stroke-miterlimit=\"10\"/><rect fill=\"#f8cecc\" height=\"60\" pointer-events=\"none\" stroke=\"#b85450\" width=\"120\" x=\"311\" y=\"291\"/><g transform=\"translate(352.5,314.5)\"><switch><foreignObject height=\"12\" pointer-events=\"all\" requiredFeatures=\"http://www.w3.org/TR/SVG11/feature#Extensibility\" style=\"overflow:visible;\" width=\"36\"><div style=\"display: inline-block; font-size: 12px; font-family: Helvetica; color: rgb(0, 0, 0); line-height: 1.2; vertical-align: top; width: 38px; white-space: nowrap; word-wrap: normal; text-align: center;\" xmlns=\"http://www.w3.org/1999/xhtml\"><div style=\"display:inline-block;text-align:inherit;text-decoration:inherit;\" xmlns=\"http://www.w3.org/1999/xhtml\">y_train</div></div></foreignObject><text fill=\"#000000\" font-family=\"Helvetica\" font-size=\"12px\" text-anchor=\"middle\" x=\"18\" y=\"12\">y_train</text></switch></g><rect fill=\"#f8cecc\" height=\"60\" pointer-events=\"none\" stroke=\"#b85450\" width=\"120\" x=\"311\" y=\"361\"/><g transform=\"translate(354.5,384.5)\"><switch><foreignObject height=\"12\" pointer-events=\"all\" requiredFeatures=\"http://www.w3.org/TR/SVG11/feature#Extensibility\" style=\"overflow:visible;\" width=\"32\"><div style=\"display: inline-block; font-size: 12px; font-family: Helvetica; color: rgb(0, 0, 0); line-height: 1.2; vertical-align: top; width: 34px; white-space: nowrap; word-wrap: normal; text-align: center;\" xmlns=\"http://www.w3.org/1999/xhtml\"><div style=\"display:inline-block;text-align:inherit;text-decoration:inherit;\" xmlns=\"http://www.w3.org/1999/xhtml\">y_test</div></div></foreignObject><text fill=\"#000000\" font-family=\"Helvetica\" font-size=\"12px\" text-anchor=\"middle\" x=\"16\" y=\"12\">y_test</text></switch></g><path d=\"M 261 321 L 307.3 385.82\" fill=\"none\" pointer-events=\"none\" stroke=\"#000000\" stroke-miterlimit=\"10\"/><path d=\"M 310.35 390.09 L 303.43 386.43 L 307.3 385.82 L 309.13 382.36 Z\" fill=\"#000000\" pointer-events=\"none\" stroke=\"#000000\" stroke-miterlimit=\"10\"/><rect fill=\"#dae8fc\" height=\"60\" pointer-events=\"none\" rx=\"9\" ry=\"9\" stroke=\"#6c8ebf\" width=\"120\" x=\"481\" y=\"241\"/><g transform=\"translate(499.5,264.5)\"><switch><foreignObject height=\"12\" pointer-events=\"all\" requiredFeatures=\"http://www.w3.org/TR/SVG11/feature#Extensibility\" style=\"overflow:visible;\" width=\"82\"><div style=\"display: inline-block; font-size: 12px; font-family: Helvetica; color: rgb(0, 0, 0); line-height: 1.2; vertical-align: top; width: 84px; white-space: nowrap; word-wrap: normal; text-align: center;\" xmlns=\"http://www.w3.org/1999/xhtml\"><div style=\"display:inline-block;text-align:inherit;text-decoration:inherit;\" xmlns=\"http://www.w3.org/1999/xhtml\">classifier model</div></div></foreignObject><text fill=\"#000000\" font-family=\"Helvetica\" font-size=\"12px\" text-anchor=\"middle\" x=\"41\" y=\"12\">classifier model</text></switch></g><path d=\"M 631 181 L 631 354.63\" fill=\"none\" pointer-events=\"none\" stroke=\"#000000\" stroke-miterlimit=\"10\"/><path d=\"M 631 359.88 L 627.5 352.88 L 631 354.63 L 634.5 352.88 Z\" fill=\"#000000\" pointer-events=\"none\" stroke=\"#000000\" stroke-miterlimit=\"10\"/><rect fill=\"#d5e8d4\" height=\"60\" pointer-events=\"none\" rx=\"9\" ry=\"9\" stroke=\"#82b366\" width=\"120\" x=\"571\" y=\"121\"/><g transform=\"translate(601.5,144.5)\"><switch><foreignObject height=\"12\" pointer-events=\"all\" requiredFeatures=\"http://www.w3.org/TR/SVG11/feature#Extensibility\" style=\"overflow:visible;\" width=\"58\"><div style=\"display: inline-block; font-size: 12px; font-family: Helvetica; color: rgb(0, 0, 0); line-height: 1.2; vertical-align: top; width: 60px; white-space: nowrap; word-wrap: normal; text-align: center;\" xmlns=\"http://www.w3.org/1999/xhtml\"><div style=\"display:inline-block;text-align:inherit;text-decoration:inherit;\" xmlns=\"http://www.w3.org/1999/xhtml\">predictions</div></div></foreignObject><text fill=\"#000000\" font-family=\"Helvetica\" font-size=\"12px\" text-anchor=\"middle\" x=\"29\" y=\"12\">predictions</text></switch></g><path d=\"M 431 151 L 564.63 151\" fill=\"none\" pointer-events=\"none\" stroke=\"#000000\" stroke-miterlimit=\"10\"/><path d=\"M 569.88 151 L 562.88 154.5 L 564.63 151 L 562.88 147.5 Z\" fill=\"#000000\" pointer-events=\"none\" stroke=\"#000000\" stroke-miterlimit=\"10\"/><path d=\"M 541 241 L 541 157.37\" fill=\"none\" pointer-events=\"none\" stroke=\"#000000\" stroke-miterlimit=\"10\"/><path d=\"M 541 152.12 L 544.5 159.12 L 541 157.37 L 537.5 159.12 Z\" fill=\"#000000\" pointer-events=\"none\" stroke=\"#000000\" stroke-miterlimit=\"10\"/><rect fill=\"#f5f5f5\" height=\"60\" pointer-events=\"none\" stroke=\"#666666\" transform=\"rotate(180,631,391)\" width=\"120\" x=\"571\" y=\"361\"/><g transform=\"translate(603.5,384.5)\"><switch><foreignObject height=\"12\" pointer-events=\"all\" requiredFeatures=\"http://www.w3.org/TR/SVG11/feature#Extensibility\" style=\"overflow:visible;\" width=\"54\"><div style=\"display: inline-block; font-size: 12px; font-family: Helvetica; color: rgb(0, 0, 0); line-height: 1.2; vertical-align: top; width: 56px; white-space: nowrap; word-wrap: normal; text-align: center;\" xmlns=\"http://www.w3.org/1999/xhtml\"><div style=\"display:inline-block;text-align:inherit;text-decoration:inherit;\" xmlns=\"http://www.w3.org/1999/xhtml\">evaluation</div></div></foreignObject><text fill=\"#000000\" font-family=\"Helvetica\" font-size=\"12px\" text-anchor=\"middle\" x=\"27\" y=\"12\">evaluation</text></switch></g><path d=\"M 431 391 L 564.63 391\" fill=\"none\" pointer-events=\"none\" stroke=\"#000000\" stroke-miterlimit=\"10\"/><path d=\"M 569.88 391 L 562.88 394.5 L 564.63 391 L 562.88 387.5 Z\" fill=\"#000000\" pointer-events=\"none\" stroke=\"#000000\" stroke-miterlimit=\"10\"/><path d=\"M 161 381 L 161 327.37\" fill=\"none\" pointer-events=\"none\" stroke=\"#000000\" stroke-miterlimit=\"10\"/><path d=\"M 161 322.12 L 164.5 329.12 L 161 327.37 L 157.5 329.12 Z\" fill=\"#000000\" pointer-events=\"none\" stroke=\"#000000\" stroke-miterlimit=\"10\"/><path d=\"M 241 389.57 L 241 441 L 81 441 L 81 381 L 218.14 381 Z\" fill=\"#ffe6cc\" pointer-events=\"none\" stroke=\"#d79b00\" stroke-miterlimit=\"10\" stroke-width=\"2\"/><path d=\"M 218.14 381 C 220 383.01 216.94 385.07 209.98 386.51 L 241 389.57\" fill=\"none\" pointer-events=\"none\" stroke=\"#d79b00\" stroke-miterlimit=\"10\" stroke-width=\"2\"/><g transform=\"translate(98.5,401.5)\"><switch><foreignObject height=\"18\" pointer-events=\"all\" requiredFeatures=\"http://www.w3.org/TR/SVG11/feature#Extensibility\" style=\"overflow:visible;\" width=\"123\"><div style=\"display: inline-block; font-size: 17px; font-family: &quot;Courier New&quot;; color: rgb(0, 0, 0); line-height: 1.2; vertical-align: top; width: 123px; white-space: nowrap; word-wrap: normal; text-align: center;\" xmlns=\"http://www.w3.org/1999/xhtml\"><div style=\"display:inline-block;text-align:inherit;text-decoration:inherit;\" xmlns=\"http://www.w3.org/1999/xhtml\">LabelEncoder</div></div></foreignObject><text fill=\"#000000\" font-family=\"Courier New\" font-size=\"17px\" text-anchor=\"middle\" x=\"62\" y=\"18\">LabelEncoder</text></switch></g><path d=\"M 161 161 L 161 214.63\" fill=\"none\" pointer-events=\"none\" stroke=\"#000000\" stroke-miterlimit=\"10\"/><path d=\"M 161 219.88 L 157.5 212.88 L 161 214.63 L 164.5 212.88 Z\" fill=\"#000000\" pointer-events=\"none\" stroke=\"#000000\" stroke-miterlimit=\"10\"/><path d=\"M 261 118.14 L 261 161 L 61 161 L 61 111 L 232.43 111 Z\" fill=\"#ffe6cc\" pointer-events=\"none\" stroke=\"#d79b00\" stroke-miterlimit=\"10\" stroke-width=\"2\"/><path d=\"M 232.43 111 C 234.76 112.67 230.93 114.39 222.22 115.59 L 261 118.14\" fill=\"none\" pointer-events=\"none\" stroke=\"#d79b00\" stroke-miterlimit=\"10\" stroke-width=\"2\"/><g transform=\"translate(68.5,126.5)\"><switch><foreignObject height=\"18\" pointer-events=\"all\" requiredFeatures=\"http://www.w3.org/TR/SVG11/feature#Extensibility\" style=\"overflow:visible;\" width=\"183\"><div style=\"display: inline-block; font-size: 17px; font-family: &quot;Courier New&quot;; color: rgb(0, 0, 0); line-height: 1.2; vertical-align: top; width: 185px; white-space: nowrap; word-wrap: normal; text-align: center;\" xmlns=\"http://www.w3.org/1999/xhtml\"><div style=\"display:inline-block;text-align:inherit;text-decoration:inherit;\" xmlns=\"http://www.w3.org/1999/xhtml\">FeatureTransformer</div></div></foreignObject><text fill=\"#000000\" font-family=\"Courier New\" font-size=\"17px\" text-anchor=\"middle\" x=\"92\" y=\"18\">FeatureTransformer</text></switch></g><path d=\"M 301 71 L 301 126 L 291 126 L 291 174.63\" fill=\"none\" pointer-events=\"none\" stroke=\"#000000\" stroke-miterlimit=\"10\"/><path d=\"M 291 179.88 L 287.5 172.88 L 291 174.63 L 294.5 172.88 Z\" fill=\"#000000\" pointer-events=\"none\" stroke=\"#000000\" stroke-miterlimit=\"10\"/><path d=\"M 401 28.14 L 401 71 L 201 71 L 201 21 L 372.43 21 Z\" fill=\"#ffe6cc\" pointer-events=\"none\" stroke=\"#d79b00\" stroke-miterlimit=\"10\" stroke-width=\"2\"/><path d=\"M 372.43 21 C 374.76 22.67 370.93 24.39 362.22 25.59 L 401 28.14\" fill=\"none\" pointer-events=\"none\" stroke=\"#d79b00\" stroke-miterlimit=\"10\" stroke-width=\"2\"/><g transform=\"translate(218.5,36.5)\"><switch><foreignObject height=\"18\" pointer-events=\"all\" requiredFeatures=\"http://www.w3.org/TR/SVG11/feature#Extensibility\" style=\"overflow:visible;\" width=\"163\"><div style=\"display: inline-block; font-size: 17px; font-family: &quot;Courier New&quot;; color: rgb(0, 0, 0); line-height: 1.2; vertical-align: top; width: 165px; white-space: nowrap; word-wrap: normal; text-align: center;\" xmlns=\"http://www.w3.org/1999/xhtml\"><div style=\"display:inline-block;text-align:inherit;text-decoration:inherit;\" xmlns=\"http://www.w3.org/1999/xhtml\">train_test_split</div></div></foreignObject><text fill=\"#000000\" font-family=\"Courier New\" font-size=\"17px\" text-anchor=\"middle\" x=\"82\" y=\"18\">train_test_split</text></switch></g><path d=\"M 571 81 L 571 111 L 471 111 L 471 214.63\" fill=\"none\" pointer-events=\"none\" stroke=\"#000000\" stroke-miterlimit=\"10\"/><path d=\"M 471 219.88 L 467.5 212.88 L 471 214.63 L 474.5 212.88 Z\" fill=\"#000000\" pointer-events=\"none\" stroke=\"#000000\" stroke-miterlimit=\"10\"/><path d=\"M 671 38.14 L 671 81 L 471 81 L 471 31 L 642.43 31 Z\" fill=\"#ffe6cc\" pointer-events=\"none\" stroke=\"#d79b00\" stroke-miterlimit=\"10\" stroke-width=\"2\"/><path d=\"M 642.43 31 C 644.76 32.67 640.93 34.39 632.22 35.59 L 671 38.14\" fill=\"none\" pointer-events=\"none\" stroke=\"#d79b00\" stroke-miterlimit=\"10\" stroke-width=\"2\"/><g transform=\"translate(524.5,46.5)\"><switch><foreignObject height=\"18\" pointer-events=\"all\" requiredFeatures=\"http://www.w3.org/TR/SVG11/feature#Extensibility\" style=\"overflow:visible;\" width=\"91\"><div style=\"display: inline-block; font-size: 17px; font-family: &quot;Courier New&quot;; color: rgb(0, 0, 0); line-height: 1.2; vertical-align: top; width: 93px; white-space: nowrap; word-wrap: normal; text-align: center;\" xmlns=\"http://www.w3.org/1999/xhtml\"><div style=\"display:inline-block;text-align:inherit;text-decoration:inherit;\" xmlns=\"http://www.w3.org/1999/xhtml\">model.fit</div></div></foreignObject><text fill=\"#000000\" font-family=\"Courier New\" font-size=\"17px\" text-anchor=\"middle\" x=\"46\" y=\"18\">model.fit</text></switch></g><path d=\"M 661 216 L 601 216 L 601 201 L 547.37 201\" fill=\"none\" pointer-events=\"none\" stroke=\"#000000\" stroke-miterlimit=\"10\"/><path d=\"M 542.12 201 L 549.12 197.5 L 547.37 201 L 549.12 204.5 Z\" fill=\"#000000\" pointer-events=\"none\" stroke=\"#000000\" stroke-miterlimit=\"10\"/><path d=\"M 821 198.14 L 821 241 L 661 241 L 661 191 L 798.14 191 Z\" fill=\"#ffe6cc\" pointer-events=\"none\" stroke=\"#d79b00\" stroke-miterlimit=\"10\" stroke-width=\"2\"/><path d=\"M 798.14 191 C 800 192.67 796.94 194.39 789.98 195.59 L 821 198.14\" fill=\"none\" pointer-events=\"none\" stroke=\"#d79b00\" stroke-miterlimit=\"10\" stroke-width=\"2\"/><g transform=\"translate(673.5,206.5)\"><switch><foreignObject height=\"18\" pointer-events=\"all\" requiredFeatures=\"http://www.w3.org/TR/SVG11/feature#Extensibility\" style=\"overflow:visible;\" width=\"133\"><div style=\"display: inline-block; font-size: 17px; font-family: &quot;Courier New&quot;; color: rgb(0, 0, 0); line-height: 1.2; vertical-align: top; width: 133px; white-space: nowrap; word-wrap: normal; text-align: center;\" xmlns=\"http://www.w3.org/1999/xhtml\"><div style=\"display:inline-block;text-align:inherit;text-decoration:inherit;\" xmlns=\"http://www.w3.org/1999/xhtml\">model.predict</div></div></foreignObject><text fill=\"#000000\" font-family=\"Courier New\" font-size=\"17px\" text-anchor=\"middle\" x=\"67\" y=\"18\">model.predict</text></switch></g><path d=\"M 761 458.14 L 761 501 L 521 501 L 521 451 L 726.71 451 Z\" fill=\"#ffe6cc\" pointer-events=\"none\" stroke=\"#d79b00\" stroke-miterlimit=\"10\" stroke-width=\"2\"/><path d=\"M 726.71 451 C 729.51 452.67 724.91 454.39 714.47 455.59 L 761 458.14\" fill=\"none\" pointer-events=\"none\" stroke=\"#d79b00\" stroke-miterlimit=\"10\" stroke-width=\"2\"/><g transform=\"translate(532.5,466.5)\"><switch><foreignObject height=\"18\" pointer-events=\"all\" requiredFeatures=\"http://www.w3.org/TR/SVG11/feature#Extensibility\" style=\"overflow:visible;\" width=\"215\"><div style=\"display: inline-block; font-size: 17px; font-family: &quot;Courier New&quot;; color: rgb(0, 0, 0); line-height: 1.2; vertical-align: top; width: 215px; white-space: nowrap; word-wrap: normal; text-align: center;\" xmlns=\"http://www.w3.org/1999/xhtml\"><div style=\"display:inline-block;text-align:inherit;text-decoration:inherit;\" xmlns=\"http://www.w3.org/1999/xhtml\">classification_report</div></div></foreignObject><text fill=\"#000000\" font-family=\"Courier New\" font-size=\"17px\" text-anchor=\"middle\" x=\"108\" y=\"18\">classification_report</text></switch></g><path d=\"M 631 276 L 631 271 L 607.37 271\" fill=\"none\" pointer-events=\"none\" stroke=\"#000000\" stroke-miterlimit=\"10\"/><path d=\"M 602.12 271 L 609.12 267.5 L 607.37 271 L 609.12 274.5 Z\" fill=\"#000000\" pointer-events=\"none\" stroke=\"#000000\" stroke-miterlimit=\"10\"/><path d=\"M 831 258.14 L 831 301 L 631 301 L 631 251 L 802.43 251 Z\" fill=\"#ffe6cc\" pointer-events=\"none\" stroke=\"#d79b00\" stroke-miterlimit=\"10\" stroke-width=\"2\"/><path d=\"M 802.43 251 C 804.76 252.67 800.93 254.39 792.22 255.59 L 831 258.14\" fill=\"none\" pointer-events=\"none\" stroke=\"#d79b00\" stroke-miterlimit=\"10\" stroke-width=\"2\"/><g transform=\"translate(638.5,256.5)\"><switch><foreignObject height=\"38\" pointer-events=\"all\" requiredFeatures=\"http://www.w3.org/TR/SVG11/feature#Extensibility\" style=\"overflow:visible;\" width=\"183\"><div style=\"display: inline-block; font-size: 17px; font-family: &quot;Courier New&quot;; color: rgb(0, 0, 0); line-height: 1.2; vertical-align: top; width: 185px; white-space: nowrap; word-wrap: normal; text-align: center;\" xmlns=\"http://www.w3.org/1999/xhtml\"><div style=\"display:inline-block;text-align:inherit;text-decoration:inherit;\" xmlns=\"http://www.w3.org/1999/xhtml\">LogisticRegression<br/>MNBayes</div></div></foreignObject><text fill=\"#000000\" font-family=\"Courier New\" font-size=\"17px\" text-anchor=\"middle\" x=\"92\" y=\"28\">LogisticRegression&lt;br&gt;MNBayes</text></switch></g></g></svg>"
      ],
      "text/plain": [
       "<IPython.core.display.SVG object>"
      ]
     },
     "metadata": {},
     "output_type": "display_data"
    }
   ],
   "source": [
    "display(SVG('./figure/scikit-learn-flow-packages.svg'))"
   ]
  },
  {
   "cell_type": "markdown",
   "metadata": {
    "slideshow": {
     "slide_type": "subslide"
    }
   },
   "source": [
    "## Pipelines in the scikit-learn system\n",
    "\n",
    "* To compactly represent and couple transformers and classifiers, you can use a `Pipeline`"
   ]
  },
  {
   "cell_type": "code",
   "execution_count": 95,
   "metadata": {
    "collapsed": false
   },
   "outputs": [
    {
     "data": {
      "image/svg+xml": [
       "<svg content=\"&lt;mxfile userAgent=&quot;Mozilla/5.0 (X11; Linux x86_64) AppleWebKit/537.36 (KHTML, like Gecko) Chrome/53.0.2785.116 Safari/537.36&quot; version=&quot;5.7.0.9&quot; editor=&quot;www.draw.io&quot; type=&quot;device&quot;&gt;&lt;diagram&gt;5Vrfk5o6FP5rfGwHCCA++mvbndl2durMvb2PESLmFokNcdX+9U0gEUjQRUW3O/VByUlIyPm+8+Uk2APj1e4ThevlFxKhpOdY0a4HJj3HCcCAfwvDvjD0Xa8wxBRHhckuDTP8C0mjJa0bHKGs1pARkjC8rhtDkqYoZDUbpJRs680WJKmPuoYxMgyzECam9V8csaWclmeV9s8Ix0s1sm3JmjkMf8SUbFI5Xs8Bi/xTVK+g6ku2z5YwItuKCUx7YEwJYcXVajdGiXCtcltx38OR2sNzU5SyNjcoXF5gspFz//TtcTKbDr+NP4//kQ/J9sox2yVmaLaGoShvOfY9MFqyVcJLNr9c4CQZk4TQvLWaOreTlD3AFU4EH8ZkQzGivOOvaCsrJQXsPi/DBMcpL4R8DrwZGGWMkh+o0q+Vf3hNTGGEebNK3dAPrFFQqZtgyimCiegSwYy7ZfSCKMMc7aEcaU4YIyteIZ3Bq9HuqEftA06c/oisEKN73kTdYEuXSurbCuptSSRX0WVZIZGr2AUleeND3yWA/EJi2Iwn8A08e46fiElH+KWGpf9zI1g24lNlH6TPhyKmCrcf6vlVLH/zfrI1TJXt+fF5+vT4darq+ONVqyvmfHRlPY9UEcyWKGpm2MSd2g9eMxM6Yt9NydK3amRxPJMszqCBLLbfBVk8AwoUcR2URULZksQkhcm0tI5yccvhsOowoR1m3yvX/4kmHwU23Bl0/13ekRfKuv8RY3vpf7hhhJvKcZ8IWcsej3iWPzzHM5RPD+RSAWmMVFQVJjGvk4BQlECGX+r6f5VzjUCcQAavF1QnDJskMfLnvuefcpRB1KOsdOqkBJZJyqCBk11Q0jW89oAg21CeDFzpuSBEzZ6bB56Q3o4897rr+jdynfLd/aL5o+PVArqLcK7Grj3oOnjlrc8E82EPqLmuhhrQ4Cg0Rt6lIXJ4jFYgqQS3tj7rqKXRUOSwYhFKYJbhUIPmhJweh62VgLZVS+k4oC9fA5PuXgPdT2U6zRDpIwG3HURmR7q46VgXBOwE64GBdYHnosg/VsWuSUO/jEiB4XkiF0EULBpFzg8DNF90I3KGCxtE7pD1dq1ywHTq2QF0Vj54VO5KGdPC5VVdK5J0078to+ZKtXNcUIPP7V8YSgcxUx3p+HYXSq5toM4oxKk4Yrggq3rjHcWRgDtr4xBYzSDeIwZdx0QDZeyvBUMXxPuCYW40biyIMsUoEw6V/FWksu8EulbmhWdEMZ+i8PzEOktAa2mK86eJqqfFIwguzU/0wHZuJ6p9gznc73B19lbr/Uew42mHdu4dI1hR8D0cw5yF1IXBHZjB7d7r1EYNXomJJzhHydXHD20Pbq6j8evr0M0Obu6dl7cl11utCEA7CnIHgwtXBB1VvaPuVgTPTLPfIpc4b2dV047+n5YYaHskPdTaksCvd2PfLCnwwH0Wo7YLzqlFqz1Hqnzw3JMa6mnv74wDohbJ4GtdtEXdyCpbHlbxAIX7SrO1aJBdywzzbH4Wkvxk3loQEeMwb5/nkCLFz9TrvzlVr/5GxTax2sSCacS/50VN9YDsHSy4nn4s2XQU1vT+7oIllxfL/wUU+JX/vQDT3w==&lt;/diagram&gt;&lt;/mxfile&gt;\" height=\"453px\" style=\"background-color: rgb(255, 255, 255);\" version=\"1.1\" width=\"743px\" xmlns=\"http://www.w3.org/2000/svg\" xmlns:xlink=\"http://www.w3.org/1999/xlink\"><defs><linearGradient id=\"mx-gradient-ffffff-1-a680b8-1-e-0\" x1=\"0%\" x2=\"100%\" y1=\"0%\" y2=\"0%\"><stop offset=\"0%\" style=\"stop-color:#ffffff\"/><stop offset=\"100%\" style=\"stop-color:#A680B8\"/></linearGradient><linearGradient id=\"mx-gradient-d4e1f5-1-ffffff-1-s-0\" x1=\"0%\" x2=\"0%\" y1=\"0%\" y2=\"100%\"><stop offset=\"0%\" style=\"stop-color:#D4E1F5\"/><stop offset=\"100%\" style=\"stop-color:#ffffff\"/></linearGradient></defs><g transform=\"translate(0.5,0.5)\"><rect fill=\"url(#mx-gradient-ffffff-1-a680b8-1-e-0)\" height=\"450\" pointer-events=\"none\" stroke=\"#000000\" width=\"400\" x=\"96\" y=\"1\"/><g transform=\"translate(234.5,428.5)\"><switch><foreignObject height=\"18\" pointer-events=\"all\" requiredFeatures=\"http://www.w3.org/TR/SVG11/feature#Extensibility\" style=\"overflow:visible;\" width=\"122\"><div style=\"display: inline-block; font-size: 17px; font-family: &quot;Courier New&quot;; color: rgb(0, 0, 0); line-height: 1.2; vertical-align: top; width: 124px; white-space: nowrap; word-wrap: normal; text-align: center;\" xmlns=\"http://www.w3.org/1999/xhtml\"><div style=\"display:inline-block;text-align:inherit;text-decoration:inherit;\" xmlns=\"http://www.w3.org/1999/xhtml\">GRIDSEARCHCV</div></div></foreignObject><text fill=\"#000000\" font-family=\"Courier New\" font-size=\"17px\" text-anchor=\"middle\" x=\"61\" y=\"18\">GRIDSEARCHCV</text></switch></g><rect fill=\"url(#mx-gradient-d4e1f5-1-ffffff-1-s-0)\" height=\"160\" pointer-events=\"none\" stroke=\"#000000\" stroke-dasharray=\"3 3\" width=\"290\" x=\"151\" y=\"131\"/><g transform=\"translate(254.5,268.5)\"><switch><foreignObject height=\"18\" pointer-events=\"all\" requiredFeatures=\"http://www.w3.org/TR/SVG11/feature#Extensibility\" style=\"overflow:visible;\" width=\"82\"><div style=\"display: inline-block; font-size: 17px; font-family: &quot;Courier New&quot;; color: rgb(0, 0, 0); line-height: 1.2; vertical-align: top; width: 82px; white-space: nowrap; word-wrap: normal; text-align: center;\" xmlns=\"http://www.w3.org/1999/xhtml\"><div style=\"display:inline-block;text-align:inherit;text-decoration:inherit;\" xmlns=\"http://www.w3.org/1999/xhtml\"><div style=\"text-align: center\"><span>PIPELINE</span></div></div></div></foreignObject><text fill=\"#000000\" font-family=\"Courier New\" font-size=\"17px\" text-anchor=\"middle\" x=\"41\" y=\"18\">[Not supported by viewer]</text></switch></g><path d=\"M 81 211 L 174.63 211\" fill=\"none\" pointer-events=\"none\" stroke=\"#000000\" stroke-miterlimit=\"10\"/><path d=\"M 179.88 211 L 172.88 214.5 L 174.63 211 L 172.88 207.5 Z\" fill=\"#000000\" pointer-events=\"none\" stroke=\"#000000\" stroke-miterlimit=\"10\"/><rect fill=\"#fff2cc\" height=\"60\" pointer-events=\"none\" stroke=\"#d6b656\" width=\"80\" x=\"1\" y=\"181\"/><g transform=\"translate(27.5,204.5)\"><switch><foreignObject height=\"12\" pointer-events=\"all\" requiredFeatures=\"http://www.w3.org/TR/SVG11/feature#Extensibility\" style=\"overflow:visible;\" width=\"26\"><div style=\"display: inline-block; font-size: 12px; font-family: Helvetica; color: rgb(0, 0, 0); line-height: 1.2; vertical-align: top; width: 26px; white-space: nowrap; word-wrap: normal; text-align: center;\" xmlns=\"http://www.w3.org/1999/xhtml\"><div style=\"display:inline-block;text-align:inherit;text-decoration:inherit;\" xmlns=\"http://www.w3.org/1999/xhtml\">Data</div></div></foreignObject><text fill=\"#000000\" font-family=\"Helvetica\" font-size=\"12px\" text-anchor=\"middle\" x=\"13\" y=\"12\">Data</text></switch></g><rect fill=\"#f8cecc\" height=\"60\" pointer-events=\"none\" stroke=\"#b85450\" width=\"70\" x=\"181\" y=\"181\"/><g transform=\"translate(191.5,204.5)\"><switch><foreignObject height=\"12\" pointer-events=\"all\" requiredFeatures=\"http://www.w3.org/TR/SVG11/feature#Extensibility\" style=\"overflow:visible;\" width=\"48\"><div style=\"display: inline-block; font-size: 12px; font-family: Helvetica; color: rgb(0, 0, 0); line-height: 1.2; vertical-align: top; width: 48px; white-space: nowrap; word-wrap: normal; text-align: center;\" xmlns=\"http://www.w3.org/1999/xhtml\"><div style=\"display:inline-block;text-align:inherit;text-decoration:inherit;\" xmlns=\"http://www.w3.org/1999/xhtml\">Features</div></div></foreignObject><text fill=\"#000000\" font-family=\"Helvetica\" font-size=\"12px\" text-anchor=\"middle\" x=\"24\" y=\"12\">Features</text></switch></g><path d=\"M 421 211 L 421 191 L 331 191 L 331 187.37\" fill=\"none\" pointer-events=\"none\" stroke=\"#000000\" stroke-miterlimit=\"10\"/><path d=\"M 331 182.12 L 334.5 189.12 L 331 187.37 L 327.5 189.12 Z\" fill=\"#000000\" pointer-events=\"none\" stroke=\"#000000\" stroke-miterlimit=\"10\"/><path d=\"M 251 211 L 294.63 211\" fill=\"none\" pointer-events=\"none\" stroke=\"#000000\" stroke-miterlimit=\"10\"/><path d=\"M 299.88 211 L 292.88 214.5 L 294.63 211 L 292.88 207.5 Z\" fill=\"#000000\" pointer-events=\"none\" stroke=\"#000000\" stroke-miterlimit=\"10\"/><rect fill=\"#dae8fc\" height=\"60\" pointer-events=\"none\" rx=\"9\" ry=\"9\" stroke=\"#6c8ebf\" width=\"120\" x=\"301\" y=\"181\"/><g transform=\"translate(319.5,204.5)\"><switch><foreignObject height=\"12\" pointer-events=\"all\" requiredFeatures=\"http://www.w3.org/TR/SVG11/feature#Extensibility\" style=\"overflow:visible;\" width=\"82\"><div style=\"display: inline-block; font-size: 12px; font-family: Helvetica; color: rgb(0, 0, 0); line-height: 1.2; vertical-align: top; width: 84px; white-space: nowrap; word-wrap: normal; text-align: center;\" xmlns=\"http://www.w3.org/1999/xhtml\"><div style=\"display:inline-block;text-align:inherit;text-decoration:inherit;\" xmlns=\"http://www.w3.org/1999/xhtml\">classifier model</div></div></foreignObject><text fill=\"#000000\" font-family=\"Helvetica\" font-size=\"12px\" text-anchor=\"middle\" x=\"41\" y=\"12\">classifier model</text></switch></g><path d=\"M 224 351 L 224 297.37\" fill=\"none\" pointer-events=\"none\" stroke=\"#000000\" stroke-miterlimit=\"10\"/><path d=\"M 224 292.12 L 227.5 299.12 L 224 297.37 L 220.5 299.12 Z\" fill=\"#000000\" pointer-events=\"none\" stroke=\"#000000\" stroke-miterlimit=\"10\"/><rect fill=\"url(#mx-gradient-d4e1f5-1-ffffff-1-s-0)\" height=\"60\" pointer-events=\"none\" stroke=\"#000000\" stroke-dasharray=\"3 3\" width=\"120\" x=\"161\" y=\"351\"/><g transform=\"translate(169.5,371.5)\"><switch><foreignObject height=\"18\" pointer-events=\"all\" requiredFeatures=\"http://www.w3.org/TR/SVG11/feature#Extensibility\" style=\"overflow:visible;\" width=\"102\"><div style=\"display: inline-block; font-size: 17px; font-family: &quot;Courier New&quot;; color: rgb(0, 0, 0); line-height: 1.2; vertical-align: top; width: 104px; white-space: nowrap; word-wrap: normal; text-align: center;\" xmlns=\"http://www.w3.org/1999/xhtml\"><div style=\"display:inline-block;text-align:inherit;text-decoration:inherit;\" xmlns=\"http://www.w3.org/1999/xhtml\">train data</div></div></foreignObject><text fill=\"#000000\" font-family=\"Courier New\" font-size=\"17px\" text-anchor=\"middle\" x=\"51\" y=\"18\">train data</text></switch></g><rect fill=\"url(#mx-gradient-d4e1f5-1-ffffff-1-s-0)\" height=\"60\" pointer-events=\"none\" stroke=\"#000000\" stroke-dasharray=\"3 3\" width=\"120\" x=\"301\" y=\"351\"/><g transform=\"translate(314.5,371.5)\"><switch><foreignObject height=\"18\" pointer-events=\"all\" requiredFeatures=\"http://www.w3.org/TR/SVG11/feature#Extensibility\" style=\"overflow:visible;\" width=\"92\"><div style=\"display: inline-block; font-size: 17px; font-family: &quot;Courier New&quot;; color: rgb(0, 0, 0); line-height: 1.2; vertical-align: top; width: 92px; white-space: nowrap; word-wrap: normal; text-align: center;\" xmlns=\"http://www.w3.org/1999/xhtml\"><div style=\"display:inline-block;text-align:inherit;text-decoration:inherit;\" xmlns=\"http://www.w3.org/1999/xhtml\">test data</div></div></foreignObject><text fill=\"#000000\" font-family=\"Courier New\" font-size=\"17px\" text-anchor=\"middle\" x=\"46\" y=\"18\">test data</text></switch></g><path d=\"M 361 351 L 361.89 297.37\" fill=\"none\" pointer-events=\"none\" stroke=\"#000000\" stroke-miterlimit=\"10\"/><path d=\"M 361.98 292.12 L 365.36 299.18 L 361.89 297.37 L 358.37 299.06 Z\" fill=\"#000000\" pointer-events=\"none\" stroke=\"#000000\" stroke-miterlimit=\"10\"/><rect fill=\"url(#mx-gradient-d4e1f5-1-ffffff-1-s-0)\" height=\"60\" pointer-events=\"none\" stroke=\"#000000\" stroke-dasharray=\"3 3\" width=\"120\" x=\"236\" y=\"21\"/><g transform=\"translate(264.5,41.5)\"><switch><foreignObject height=\"18\" pointer-events=\"all\" requiredFeatures=\"http://www.w3.org/TR/SVG11/feature#Extensibility\" style=\"overflow:visible;\" width=\"62\"><div style=\"display: inline-block; font-size: 17px; font-family: &quot;Courier New&quot;; color: rgb(0, 0, 0); line-height: 1.2; vertical-align: top; width: 62px; white-space: nowrap; word-wrap: normal; text-align: center;\" xmlns=\"http://www.w3.org/1999/xhtml\"><div style=\"display:inline-block;text-align:inherit;text-decoration:inherit;\" xmlns=\"http://www.w3.org/1999/xhtml\">params</div></div></foreignObject><text fill=\"#000000\" font-family=\"Courier New\" font-size=\"17px\" text-anchor=\"middle\" x=\"31\" y=\"18\">params</text></switch></g><path d=\"M 81 381 L 154.63 381\" fill=\"none\" pointer-events=\"none\" stroke=\"#000000\" stroke-miterlimit=\"10\"/><path d=\"M 159.88 381 L 152.88 384.5 L 154.63 381 L 152.88 377.5 Z\" fill=\"#000000\" pointer-events=\"none\" stroke=\"#000000\" stroke-miterlimit=\"10\"/><rect fill=\"#fff2cc\" height=\"60\" pointer-events=\"none\" stroke=\"#d6b656\" width=\"80\" x=\"1\" y=\"351\"/><g transform=\"translate(22.5,374.5)\"><switch><foreignObject height=\"12\" pointer-events=\"all\" requiredFeatures=\"http://www.w3.org/TR/SVG11/feature#Extensibility\" style=\"overflow:visible;\" width=\"36\"><div style=\"display: inline-block; font-size: 12px; font-family: Helvetica; color: rgb(0, 0, 0); line-height: 1.2; vertical-align: top; width: 36px; white-space: nowrap; word-wrap: normal; text-align: center;\" xmlns=\"http://www.w3.org/1999/xhtml\"><div style=\"display:inline-block;text-align:inherit;text-decoration:inherit;\" xmlns=\"http://www.w3.org/1999/xhtml\">Labels</div></div></foreignObject><text fill=\"#000000\" font-family=\"Helvetica\" font-size=\"12px\" text-anchor=\"middle\" x=\"18\" y=\"12\">Labels</text></switch></g><path d=\"M 281 380 L 294.63 380\" fill=\"none\" pointer-events=\"none\" stroke=\"#000000\" stroke-miterlimit=\"10\"/><path d=\"M 299.88 380 L 292.88 383.5 L 294.63 380 L 292.88 376.5 Z\" fill=\"#000000\" pointer-events=\"none\" stroke=\"#000000\" stroke-miterlimit=\"10\"/><path d=\"M 296 81 L 296 124.63\" fill=\"none\" pointer-events=\"none\" stroke=\"#000000\" stroke-miterlimit=\"10\"/><path d=\"M 296 129.88 L 292.5 122.88 L 296 124.63 L 299.5 122.88 Z\" fill=\"#000000\" pointer-events=\"none\" stroke=\"#000000\" stroke-miterlimit=\"10\"/><path d=\"M 496 211 L 544.63 211\" fill=\"none\" pointer-events=\"none\" stroke=\"#000000\" stroke-miterlimit=\"10\"/><path d=\"M 549.88 211 L 542.88 214.5 L 544.63 211 L 542.88 207.5 Z\" fill=\"#000000\" pointer-events=\"none\" stroke=\"#000000\" stroke-miterlimit=\"10\"/><rect fill=\"#fff2cc\" height=\"60\" pointer-events=\"none\" stroke=\"#d6b656\" width=\"190\" x=\"551\" y=\"181\"/><g transform=\"translate(552.5,190.5)\"><switch><foreignObject height=\"40\" pointer-events=\"all\" requiredFeatures=\"http://www.w3.org/TR/SVG11/feature#Extensibility\" style=\"overflow:visible;\" width=\"186\"><div style=\"display: inline-block; font-size: 12px; font-family: Helvetica; color: rgb(0, 0, 0); line-height: 1.2; vertical-align: top; width: 186px; white-space: normal; word-wrap: normal; text-align: center;\" xmlns=\"http://www.w3.org/1999/xhtml\"><div style=\"display:inline-block;text-align:inherit;text-decoration:inherit;\" xmlns=\"http://www.w3.org/1999/xhtml\">Scores for all parameters<br/>Best parameters and best classifier</div></div></foreignObject><text fill=\"#000000\" font-family=\"Helvetica\" font-size=\"12px\" text-anchor=\"middle\" x=\"93\" y=\"26\">Scores for all parameters&lt;br&gt;Best parameters and best classifier</text></switch></g></g></svg>"
      ],
      "text/plain": [
       "<IPython.core.display.SVG object>"
      ]
     },
     "metadata": {},
     "output_type": "display_data"
    }
   ],
   "source": [
    "display(SVG('./figure/scikit-learn-pipeline.svg'))"
   ]
  },
  {
   "cell_type": "code",
   "execution_count": 26,
   "metadata": {
    "collapsed": false,
    "slideshow": {
     "slide_type": "subslide"
    }
   },
   "outputs": [
    {
     "data": {
      "text/html": [
       "<div>\n",
       "<table border=\"1\" class=\"dataframe\">\n",
       "  <thead>\n",
       "    <tr style=\"text-align: right;\">\n",
       "      <th></th>\n",
       "      <th>lang</th>\n",
       "      <th>txt</th>\n",
       "      <th>count_e</th>\n",
       "      <th>count_g</th>\n",
       "      <th>count_c</th>\n",
       "    </tr>\n",
       "  </thead>\n",
       "  <tbody>\n",
       "    <tr>\n",
       "      <th>25487</th>\n",
       "      <td>fra</td>\n",
       "      <td>L&amp;rsquo;opération doit avoir un effet positif sur les résultats du groupe pharmaceutique français dès la première année.</td>\n",
       "      <td>9</td>\n",
       "      <td>1</td>\n",
       "      <td>1</td>\n",
       "    </tr>\n",
       "    <tr>\n",
       "      <th>7216</th>\n",
       "      <td>eng</td>\n",
       "      <td>Net interest income is expected to grow by 9 to 10pc for the half year with the strong growth in lending assets offsetting a reduced net interest margin.</td>\n",
       "      <td>18</td>\n",
       "      <td>6</td>\n",
       "      <td>4</td>\n",
       "    </tr>\n",
       "    <tr>\n",
       "      <th>28876</th>\n",
       "      <td>fra</td>\n",
       "      <td>Cette réforme prévoit notamment un temps fixe dexamen pour chaque projet de loi, ce qui devrait permettre détablir un planning parlementaire.</td>\n",
       "      <td>19</td>\n",
       "      <td>1</td>\n",
       "      <td>2</td>\n",
       "    </tr>\n",
       "    <tr>\n",
       "      <th>20546</th>\n",
       "      <td>fra</td>\n",
       "      <td>James Walker pointe ainsi en tête avec 1´´8 d´avance sur Bertrand Baguette, lui-même suivi de prêt par Miguel Molina et Daniil Move.</td>\n",
       "      <td>15</td>\n",
       "      <td>2</td>\n",
       "      <td>2</td>\n",
       "    </tr>\n",
       "    <tr>\n",
       "      <th>25024</th>\n",
       "      <td>fra</td>\n",
       "      <td>Il avait alors plaidé coupable à quatorze chefs d'accusation distincts, ce qui a marqué le début dun long processus judiciaire qui aura duré sept ans.</td>\n",
       "      <td>8</td>\n",
       "      <td>1</td>\n",
       "      <td>8</td>\n",
       "    </tr>\n",
       "  </tbody>\n",
       "</table>\n",
       "</div>"
      ],
      "text/plain": [
       "      lang  \\\n",
       "25487  fra   \n",
       "7216   eng   \n",
       "28876  fra   \n",
       "20546  fra   \n",
       "25024  fra   \n",
       "\n",
       "                                                                                                                                                             txt  \\\n",
       "25487                                   L&rsquo;opération doit avoir un effet positif sur les résultats du groupe pharmaceutique français dès la première année.   \n",
       "7216   Net interest income is expected to grow by 9 to 10pc for the half year with the strong growth in lending assets offsetting a reduced net interest margin.   \n",
       "28876              Cette réforme prévoit notamment un temps fixe dexamen pour chaque projet de loi, ce qui devrait permettre détablir un planning parlementaire.   \n",
       "20546                       James Walker pointe ainsi en tête avec 1´´8 d´avance sur Bertrand Baguette, lui-même suivi de prêt par Miguel Molina et Daniil Move.   \n",
       "25024    Il avait alors plaidé coupable à quatorze chefs d'accusation distincts, ce qui a marqué le début dun long processus judiciaire qui aura duré sept ans.   \n",
       "\n",
       "       count_e  count_g  count_c  \n",
       "25487        9        1        1  \n",
       "7216        18        6        4  \n",
       "28876       19        1        2  \n",
       "20546       15        2        2  \n",
       "25024        8        1        8  "
      ]
     },
     "execution_count": 26,
     "metadata": {},
     "output_type": "execute_result"
    }
   ],
   "source": [
    "## how do we define a function that efficiently creates the features \n",
    "## array([[ 3,  0],\n",
    "##        [11,  0],\n",
    "##           ...\n",
    "##        [4,  12]])\n",
    "\n",
    "df.sample(5)"
   ]
  },
  {
   "cell_type": "code",
   "execution_count": 96,
   "metadata": {
    "collapsed": false,
    "slideshow": {
     "slide_type": "subslide"
    }
   },
   "outputs": [
    {
     "data": {
      "text/plain": [
       "array([ 3, 11, 13, ..., 40,  9,  5], dtype=int64)"
      ]
     },
     "execution_count": 96,
     "metadata": {},
     "output_type": "execute_result"
    }
   ],
   "source": [
    "df.txt.str.count('e').values\n",
    "\n",
    "# tokens = [\"e\", \"ab\"]\n",
    "\n",
    "# [df.txt.str.count(token).values for token in tokens]\n",
    "\n",
    "# np.vstack([df.txt.str.count(token).values for token in tokens]).T"
   ]
  },
  {
   "cell_type": "code",
   "execution_count": 97,
   "metadata": {
    "collapsed": false,
    "slideshow": {
     "slide_type": "subslide"
    }
   },
   "outputs": [
    {
     "data": {
      "text/plain": [
       "array([[  3.,   3.,   2.],\n",
       "       [ 11.,   4.,   3.],\n",
       "       [ 13.,   4.,   1.],\n",
       "       ..., \n",
       "       [ 40.,   7.,   5.],\n",
       "       [  9.,   0.,   0.],\n",
       "       [  5.,   1.,   1.]])"
      ]
     },
     "execution_count": 97,
     "metadata": {},
     "output_type": "execute_result"
    }
   ],
   "source": [
    "from sklearn.base import TransformerMixin, BaseEstimator\n",
    "\n",
    "class CharFeatureGenerator(BaseEstimator, TransformerMixin):\n",
    "\n",
    "    def __init__(self, tokens=None):\n",
    "        self.tokens = tokens\n",
    "\n",
    "    def fit(self, X, y=None, **fit_params):\n",
    "        return self\n",
    "\n",
    "    def transform(self, X, **transform_params):\n",
    "        return np.vstack([X.str.count(token).astype(float) for token in self.tokens]).T\n",
    "    \n",
    "tfg = CharFeatureGenerator(tokens=['e', 'c', 'g'])\n",
    "\n",
    "tfg.fit_transform(df.txt)"
   ]
  },
  {
   "cell_type": "code",
   "execution_count": 98,
   "metadata": {
    "collapsed": false,
    "slideshow": {
     "slide_type": "subslide"
    }
   },
   "outputs": [
    {
     "data": {
      "text/plain": [
       "array([0, 0, 0, ..., 2, 2, 2], dtype=int64)"
      ]
     },
     "execution_count": 98,
     "metadata": {},
     "output_type": "execute_result"
    }
   ],
   "source": [
    "from sklearn.preprocessing import LabelEncoder\n",
    "\n",
    "le = LabelEncoder()\n",
    "y = le.fit_transform(df.lang)\n",
    "\n",
    "y"
   ]
  },
  {
   "cell_type": "code",
   "execution_count": 105,
   "metadata": {
    "collapsed": false,
    "slideshow": {
     "slide_type": "subslide"
    }
   },
   "outputs": [
    {
     "data": {
      "text/html": [
       "<div>\n",
       "<table border=\"1\" class=\"dataframe\">\n",
       "  <thead>\n",
       "    <tr style=\"text-align: right;\">\n",
       "      <th></th>\n",
       "      <th>lang</th>\n",
       "      <th>txt</th>\n",
       "      <th>count_e</th>\n",
       "      <th>count_g</th>\n",
       "      <th>count_c</th>\n",
       "      <th>label_encoded</th>\n",
       "    </tr>\n",
       "  </thead>\n",
       "  <tbody>\n",
       "    <tr>\n",
       "      <th>23110</th>\n",
       "      <td>nld</td>\n",
       "      <td>Gekozen om te trainen bij basic-fit want er is meer dan fietsen.</td>\n",
       "      <td>9</td>\n",
       "      <td>0</td>\n",
       "      <td>1</td>\n",
       "      <td>2</td>\n",
       "    </tr>\n",
       "    <tr>\n",
       "      <th>18412</th>\n",
       "      <td>fra</td>\n",
       "      <td>Il suit en cela la position du médiateur Blaise Compaoré, et son appel au dialogue entre toutes les parties pour redéfinir les conditions de la transition.</td>\n",
       "      <td>15</td>\n",
       "      <td>1</td>\n",
       "      <td>2</td>\n",
       "      <td>1</td>\n",
       "    </tr>\n",
       "    <tr>\n",
       "      <th>7126</th>\n",
       "      <td>eng</td>\n",
       "      <td>It could take the time left before the current collective bargaining agreement expires June 30 just to get where the NBA thought it was in April.</td>\n",
       "      <td>20</td>\n",
       "      <td>5</td>\n",
       "      <td>4</td>\n",
       "      <td>0</td>\n",
       "    </tr>\n",
       "    <tr>\n",
       "      <th>9588</th>\n",
       "      <td>eng</td>\n",
       "      <td>\"We were really trying to figure out where we wanted to move forward â€” who we wanted to be,\" she said.</td>\n",
       "      <td>14</td>\n",
       "      <td>2</td>\n",
       "      <td>0</td>\n",
       "      <td>0</td>\n",
       "    </tr>\n",
       "    <tr>\n",
       "      <th>9703</th>\n",
       "      <td>eng</td>\n",
       "      <td>Bathurst could not be reached for comment Thursday evening.</td>\n",
       "      <td>6</td>\n",
       "      <td>1</td>\n",
       "      <td>3</td>\n",
       "      <td>0</td>\n",
       "    </tr>\n",
       "  </tbody>\n",
       "</table>\n",
       "</div>"
      ],
      "text/plain": [
       "      lang  \\\n",
       "23110  nld   \n",
       "18412  fra   \n",
       "7126   eng   \n",
       "9588   eng   \n",
       "9703   eng   \n",
       "\n",
       "                                                                                                                                                               txt  \\\n",
       "23110                                                                                             Gekozen om te trainen bij basic-fit want er is meer dan fietsen.   \n",
       "18412  Il suit en cela la position du médiateur Blaise Compaoré, et son appel au dialogue entre toutes les parties pour redéfinir les conditions de la transition.   \n",
       "7126             It could take the time left before the current collective bargaining agreement expires June 30 just to get where the NBA thought it was in April.   \n",
       "9588                                                      \"We were really trying to figure out where we wanted to move forward â€” who we wanted to be,\" she said.   \n",
       "9703                                                                                                   Bathurst could not be reached for comment Thursday evening.   \n",
       "\n",
       "       count_e  count_g  count_c  label_encoded  \n",
       "23110        9        0        1              2  \n",
       "18412       15        1        2              1  \n",
       "7126        20        5        4              0  \n",
       "9588        14        2        0              0  \n",
       "9703         6        1        3              0  "
      ]
     },
     "execution_count": 105,
     "metadata": {},
     "output_type": "execute_result"
    }
   ],
   "source": [
    "df.join(pd.Series(y, name='label_encoded')).sample(5)"
   ]
  },
  {
   "cell_type": "code",
   "execution_count": 106,
   "metadata": {
    "collapsed": false,
    "slideshow": {
     "slide_type": "subslide"
    }
   },
   "outputs": [
    {
     "data": {
      "text/plain": [
       "array([[ 0.76923077,  0.        ,  0.23076923],\n",
       "       [ 0.64285714,  0.28571429,  0.07142857],\n",
       "       [ 0.88888889,  0.11111111,  0.        ],\n",
       "       ..., \n",
       "       [ 0.7037037 ,  0.22222222,  0.07407407],\n",
       "       [ 0.8       ,  0.2       ,  0.        ],\n",
       "       [ 0.85714286,  0.04761905,  0.0952381 ]])"
      ]
     },
     "execution_count": 106,
     "metadata": {},
     "output_type": "execute_result"
    }
   ],
   "source": [
    "from sklearn.pipeline import Pipeline\n",
    "from sklearn.preprocessing import Normalizer\n",
    "from sklearn.preprocessing import LabelEncoder\n",
    "\n",
    "le = LabelEncoder()\n",
    "\n",
    "X = df.txt\n",
    "y = le.fit_transform(df.lang.values)\n",
    "\n",
    "pl = Pipeline([\n",
    "    ('tfg', CharFeatureGenerator(tokens=['e', 'c', 'g'])),\n",
    "    ('ss', Normalizer(norm='l1'))\n",
    "])\n",
    "\n",
    "X_train, X_test, y_train, y_test = train_test_split(X, y, test_size=.2, random_state=42)\n",
    "\n",
    "pl.fit_transform(X_train, y_train)"
   ]
  },
  {
   "cell_type": "code",
   "execution_count": 107,
   "metadata": {
    "collapsed": false,
    "slideshow": {
     "slide_type": "subslide"
    }
   },
   "outputs": [
    {
     "data": {
      "text/plain": [
       "Pipeline(steps=[('tfg', CharFeatureGenerator(tokens=['e', 'c', 'g'])), ('ss', Normalizer(copy=True, norm='l1')), ('clf', LogisticRegression(C=1.0, class_weight=None, dual=False, fit_intercept=True,\n",
       "          intercept_scaling=1, max_iter=100, multi_class='ovr', n_jobs=1,\n",
       "          penalty='l2', random_state=None, solver='liblinear', tol=0.0001,\n",
       "          verbose=0, warm_start=False))])"
      ]
     },
     "execution_count": 107,
     "metadata": {},
     "output_type": "execute_result"
    }
   ],
   "source": [
    "le = LabelEncoder()\n",
    "\n",
    "X = df.txt\n",
    "y = le.fit_transform(df.lang.values)\n",
    "\n",
    "pl = Pipeline([\n",
    "    ('tfg', CharFeatureGenerator(tokens=['e', 'c', 'g'])),\n",
    "    ('ss', Normalizer(norm='l1')),\n",
    "    ('clf', LogisticRegression())\n",
    "])\n",
    "\n",
    "X_train, X_test, y_train, y_test = train_test_split(X, y, test_size=.2, random_state=42)\n",
    "\n",
    "pl.fit(X_train, y_train)"
   ]
  },
  {
   "cell_type": "code",
   "execution_count": 110,
   "metadata": {
    "collapsed": false,
    "scrolled": true,
    "slideshow": {
     "slide_type": "subslide"
    }
   },
   "outputs": [
    {
     "data": {
      "text/html": [
       "<div>\n",
       "<table border=\"1\" class=\"dataframe\">\n",
       "  <thead>\n",
       "    <tr style=\"text-align: right;\">\n",
       "      <th></th>\n",
       "      <th>lang</th>\n",
       "      <th>txt</th>\n",
       "      <th>count_e</th>\n",
       "      <th>count_g</th>\n",
       "      <th>count_c</th>\n",
       "      <th>prediction</th>\n",
       "    </tr>\n",
       "  </thead>\n",
       "  <tbody>\n",
       "    <tr>\n",
       "      <th>25023</th>\n",
       "      <td>nld</td>\n",
       "      <td>De weging van de verschillende onderscheiden groepen tov elkaar geeft tegelijk weer hulp bij hoe beslissingen af te wegen.</td>\n",
       "      <td>24</td>\n",
       "      <td>7</td>\n",
       "      <td>2</td>\n",
       "      <td>nld</td>\n",
       "    </tr>\n",
       "    <tr>\n",
       "      <th>8643</th>\n",
       "      <td>eng</td>\n",
       "      <td>A big demand for electricity for air conditioning is putting a strain on the power grid.</td>\n",
       "      <td>5</td>\n",
       "      <td>4</td>\n",
       "      <td>3</td>\n",
       "      <td>eng</td>\n",
       "    </tr>\n",
       "    <tr>\n",
       "      <th>26528</th>\n",
       "      <td>nld</td>\n",
       "      <td>Van bluesrock tot een tikkie funky en zelf een beetje country.</td>\n",
       "      <td>11</td>\n",
       "      <td>0</td>\n",
       "      <td>2</td>\n",
       "      <td>fra</td>\n",
       "    </tr>\n",
       "    <tr>\n",
       "      <th>18189</th>\n",
       "      <td>fra</td>\n",
       "      <td>En y allant, nous savions qu'une partie du territoire était minée.</td>\n",
       "      <td>5</td>\n",
       "      <td>0</td>\n",
       "      <td>0</td>\n",
       "      <td>nld</td>\n",
       "    </tr>\n",
       "    <tr>\n",
       "      <th>8713</th>\n",
       "      <td>eng</td>\n",
       "      <td>Home Depot, which intends to keep the employees and continue to operate the facility, will carry out Crown Bolt's initial PILOT agreement with the city.</td>\n",
       "      <td>17</td>\n",
       "      <td>1</td>\n",
       "      <td>5</td>\n",
       "      <td>fra</td>\n",
       "    </tr>\n",
       "  </tbody>\n",
       "</table>\n",
       "</div>"
      ],
      "text/plain": [
       "      lang  \\\n",
       "25023  nld   \n",
       "8643   eng   \n",
       "26528  nld   \n",
       "18189  fra   \n",
       "8713   eng   \n",
       "\n",
       "                                                                                                                                                            txt  \\\n",
       "25023                                De weging van de verschillende onderscheiden groepen tov elkaar geeft tegelijk weer hulp bij hoe beslissingen af te wegen.   \n",
       "8643                                                                   A big demand for electricity for air conditioning is putting a strain on the power grid.   \n",
       "26528                                                                                            Van bluesrock tot een tikkie funky en zelf een beetje country.   \n",
       "18189                                                                                        En y allant, nous savions qu'une partie du territoire était minée.   \n",
       "8713   Home Depot, which intends to keep the employees and continue to operate the facility, will carry out Crown Bolt's initial PILOT agreement with the city.   \n",
       "\n",
       "       count_e  count_g  count_c prediction  \n",
       "25023       24        7        2        nld  \n",
       "8643         5        4        3        eng  \n",
       "26528       11        0        2        fra  \n",
       "18189        5        0        0        nld  \n",
       "8713        17        1        5        fra  "
      ]
     },
     "execution_count": 110,
     "metadata": {},
     "output_type": "execute_result"
    }
   ],
   "source": [
    "predictions = pl.predict(X_test)\n",
    "\n",
    "df.loc[X_test.index, \"prediction\"] = le.classes_[predictions]\n",
    "\n",
    "df[df.prediction.notnull()].sample(5)"
   ]
  },
  {
   "cell_type": "code",
   "execution_count": 114,
   "metadata": {
    "collapsed": false,
    "slideshow": {
     "slide_type": "subslide"
    }
   },
   "outputs": [
    {
     "name": "stdout",
     "output_type": "stream",
     "text": [
      "             precision    recall  f1-score   support\n",
      "\n",
      "          0       0.61      0.43      0.50      2002\n",
      "          1       0.60      0.65      0.63      1996\n",
      "          2       0.62      0.76      0.68      2002\n",
      "\n",
      "avg / total       0.61      0.61      0.60      6000\n",
      "\n"
     ]
    }
   ],
   "source": [
    "print(classification_report(y_pred=predictions, y_true=y_test))"
   ]
  },
  {
   "cell_type": "code",
   "execution_count": 115,
   "metadata": {
    "collapsed": false,
    "slideshow": {
     "slide_type": "subslide"
    }
   },
   "outputs": [
    {
     "name": "stdout",
     "output_type": "stream",
     "text": [
      "             precision    recall  f1-score   support\n",
      "\n",
      "          0       0.91      0.91      0.91      2002\n",
      "          1       0.92      0.96      0.94      1996\n",
      "          2       0.94      0.91      0.92      2002\n",
      "\n",
      "avg / total       0.93      0.93      0.92      6000\n",
      "\n"
     ]
    }
   ],
   "source": [
    "import string\n",
    "\n",
    "le = LabelEncoder()\n",
    "\n",
    "X = df.txt\n",
    "y = le.fit_transform(df.lang.values)\n",
    "\n",
    "pl = Pipeline([\n",
    "    ('tfg', CharFeatureGenerator(tokens=string.ascii_lowercase)),\n",
    "    ('ss', Normalizer(norm='l1')),\n",
    "    ('clf', LogisticRegression())\n",
    "])\n",
    "\n",
    "X_train, X_test, y_train, y_test = train_test_split(X, y, test_size=.2, random_state=42)\n",
    "\n",
    "pl.fit(X_train, y_train)\n",
    "predictions = pl.predict(X_test)\n",
    "\n",
    "print(classification_report(y_pred=predictions, y_true=y_test))"
   ]
  },
  {
   "cell_type": "code",
   "execution_count": 118,
   "metadata": {
    "collapsed": false,
    "slideshow": {
     "slide_type": "subslide"
    }
   },
   "outputs": [
    {
     "data": {
      "text/plain": [
       "array([[ -1.79620451,   4.3533012 ,   3.20479014,  -2.1117397 ,\n",
       "        -19.56883278,  13.30298483,   1.21901907,  30.97946858,\n",
       "         -1.89257956, -15.01132595,  -7.72106922,  -2.41926253,\n",
       "         -1.89867683,  -6.76987451,   4.89536915,  -4.03393892,\n",
       "         -6.33789215,  -1.10853059,   1.88226151,   7.28320724,\n",
       "        -15.35653913,  -9.24969423,  13.70041198,  -0.11441575,\n",
       "         25.98539938,  -9.76110628],\n",
       "       [  3.99661773,  -7.17819523,  12.23883836,  -0.27887365,\n",
       "          2.40605468,  -4.74182321, -13.65769965, -26.88000142,\n",
       "          5.06940574,  -5.40272215, -18.15101748,  11.13835218,\n",
       "          6.09627477,   1.32721632,  -4.64466308,  10.61997846,\n",
       "         11.87739448,   7.79669228,  14.20556085,  -1.55928096,\n",
       "         28.75634103,  -2.37048108, -20.69206863,   4.06690244,\n",
       "        -11.63490074,  -6.3374255 ],\n",
       "       [ -0.67070215,   3.347152  , -14.13648966,   3.56019229,\n",
       "         17.23382725,  -8.48857093,  12.07918501,  -7.14172508,\n",
       "         -1.62319522,  18.8797563 ,  22.95662798,  -8.30379029,\n",
       "         -2.86349384,   6.92780376,  -0.74010946,  -5.92285615,\n",
       "         -6.83914596,  -4.64382071, -16.54495165,  -4.99486311,\n",
       "        -15.75730556,  12.03626929,   4.06544287,  -3.8037734 ,\n",
       "        -15.04785724,  14.90455958]])"
      ]
     },
     "execution_count": 118,
     "metadata": {},
     "output_type": "execute_result"
    }
   ],
   "source": [
    "clf = pl.named_steps['clf']\n",
    "clf.coef_"
   ]
  },
  {
   "cell_type": "code",
   "execution_count": 122,
   "metadata": {
    "collapsed": false,
    "slideshow": {
     "slide_type": "fragment"
    }
   },
   "outputs": [
    {
     "data": {
      "text/plain": [
       "(3L, 26L)"
      ]
     },
     "execution_count": 122,
     "metadata": {},
     "output_type": "execute_result"
    }
   ],
   "source": [
    "clf.coef_.shape"
   ]
  },
  {
   "cell_type": "code",
   "execution_count": 131,
   "metadata": {
    "collapsed": false,
    "slideshow": {
     "slide_type": "subslide"
    }
   },
   "outputs": [
    {
     "data": {
      "text/html": [
       "<div>\n",
       "<table border=\"1\" class=\"dataframe\">\n",
       "  <thead>\n",
       "    <tr style=\"text-align: right;\">\n",
       "      <th></th>\n",
       "      <th>a</th>\n",
       "      <th>b</th>\n",
       "      <th>c</th>\n",
       "      <th>d</th>\n",
       "      <th>e</th>\n",
       "      <th>f</th>\n",
       "      <th>g</th>\n",
       "      <th>h</th>\n",
       "      <th>i</th>\n",
       "      <th>j</th>\n",
       "      <th>...</th>\n",
       "      <th>q</th>\n",
       "      <th>r</th>\n",
       "      <th>s</th>\n",
       "      <th>t</th>\n",
       "      <th>u</th>\n",
       "      <th>v</th>\n",
       "      <th>w</th>\n",
       "      <th>x</th>\n",
       "      <th>y</th>\n",
       "      <th>z</th>\n",
       "    </tr>\n",
       "  </thead>\n",
       "  <tbody>\n",
       "    <tr>\n",
       "      <th>eng</th>\n",
       "      <td>-1.796205</td>\n",
       "      <td>4.353301</td>\n",
       "      <td>3.204790</td>\n",
       "      <td>-2.111740</td>\n",
       "      <td>-19.568833</td>\n",
       "      <td>13.302985</td>\n",
       "      <td>1.219019</td>\n",
       "      <td>30.979469</td>\n",
       "      <td>-1.892580</td>\n",
       "      <td>-15.011326</td>\n",
       "      <td>...</td>\n",
       "      <td>-6.337892</td>\n",
       "      <td>-1.108531</td>\n",
       "      <td>1.882262</td>\n",
       "      <td>7.283207</td>\n",
       "      <td>-15.356539</td>\n",
       "      <td>-9.249694</td>\n",
       "      <td>13.700412</td>\n",
       "      <td>-0.114416</td>\n",
       "      <td>25.985399</td>\n",
       "      <td>-9.761106</td>\n",
       "    </tr>\n",
       "    <tr>\n",
       "      <th>fra</th>\n",
       "      <td>3.996618</td>\n",
       "      <td>-7.178195</td>\n",
       "      <td>12.238838</td>\n",
       "      <td>-0.278874</td>\n",
       "      <td>2.406055</td>\n",
       "      <td>-4.741823</td>\n",
       "      <td>-13.657700</td>\n",
       "      <td>-26.880001</td>\n",
       "      <td>5.069406</td>\n",
       "      <td>-5.402722</td>\n",
       "      <td>...</td>\n",
       "      <td>11.877394</td>\n",
       "      <td>7.796692</td>\n",
       "      <td>14.205561</td>\n",
       "      <td>-1.559281</td>\n",
       "      <td>28.756341</td>\n",
       "      <td>-2.370481</td>\n",
       "      <td>-20.692069</td>\n",
       "      <td>4.066902</td>\n",
       "      <td>-11.634901</td>\n",
       "      <td>-6.337425</td>\n",
       "    </tr>\n",
       "    <tr>\n",
       "      <th>nld</th>\n",
       "      <td>-0.670702</td>\n",
       "      <td>3.347152</td>\n",
       "      <td>-14.136490</td>\n",
       "      <td>3.560192</td>\n",
       "      <td>17.233827</td>\n",
       "      <td>-8.488571</td>\n",
       "      <td>12.079185</td>\n",
       "      <td>-7.141725</td>\n",
       "      <td>-1.623195</td>\n",
       "      <td>18.879756</td>\n",
       "      <td>...</td>\n",
       "      <td>-6.839146</td>\n",
       "      <td>-4.643821</td>\n",
       "      <td>-16.544952</td>\n",
       "      <td>-4.994863</td>\n",
       "      <td>-15.757306</td>\n",
       "      <td>12.036269</td>\n",
       "      <td>4.065443</td>\n",
       "      <td>-3.803773</td>\n",
       "      <td>-15.047857</td>\n",
       "      <td>14.904560</td>\n",
       "    </tr>\n",
       "  </tbody>\n",
       "</table>\n",
       "<p>3 rows × 26 columns</p>\n",
       "</div>"
      ],
      "text/plain": [
       "            a         b          c         d          e          f          g  \\\n",
       "eng -1.796205  4.353301   3.204790 -2.111740 -19.568833  13.302985   1.219019   \n",
       "fra  3.996618 -7.178195  12.238838 -0.278874   2.406055  -4.741823 -13.657700   \n",
       "nld -0.670702  3.347152 -14.136490  3.560192  17.233827  -8.488571  12.079185   \n",
       "\n",
       "             h         i          j    ...              q         r  \\\n",
       "eng  30.979469 -1.892580 -15.011326    ...      -6.337892 -1.108531   \n",
       "fra -26.880001  5.069406  -5.402722    ...      11.877394  7.796692   \n",
       "nld  -7.141725 -1.623195  18.879756    ...      -6.839146 -4.643821   \n",
       "\n",
       "             s         t          u          v          w         x  \\\n",
       "eng   1.882262  7.283207 -15.356539  -9.249694  13.700412 -0.114416   \n",
       "fra  14.205561 -1.559281  28.756341  -2.370481 -20.692069  4.066902   \n",
       "nld -16.544952 -4.994863 -15.757306  12.036269   4.065443 -3.803773   \n",
       "\n",
       "             y          z  \n",
       "eng  25.985399  -9.761106  \n",
       "fra -11.634901  -6.337425  \n",
       "nld -15.047857  14.904560  \n",
       "\n",
       "[3 rows x 26 columns]"
      ]
     },
     "execution_count": 131,
     "metadata": {},
     "output_type": "execute_result"
    }
   ],
   "source": [
    "coefs = pd.DataFrame(clf.coef_, columns=list(string.ascii_lowercase), index=le.classes_)\n",
    "coefs"
   ]
  },
  {
   "cell_type": "code",
   "execution_count": 132,
   "metadata": {
    "collapsed": false,
    "slideshow": {
     "slide_type": "subslide"
    }
   },
   "outputs": [
    {
     "data": {
      "text/plain": [
       "<matplotlib.axes._subplots.AxesSubplot at 0x10def908>"
      ]
     },
     "execution_count": 132,
     "metadata": {},
     "output_type": "execute_result"
    },
    {
     "data": {
      "image/png": "[encoded data removed]",
      "text/plain": [
       "<matplotlib.figure.Figure at 0x10def358>"
      ]
     },
     "metadata": {},
     "output_type": "display_data"
    }
   ],
   "source": [
    "fig = plt.figure(figsize=(12, 6))\n",
    "ax = fig.add_subplot(111)\n",
    "\n",
    "sns.heatmap(coefs, ax=ax)"
   ]
  },
  {
   "cell_type": "code",
   "execution_count": null,
   "metadata": {
    "collapsed": false,
    "slideshow": {
     "slide_type": "subslide"
    }
   },
   "outputs": [
    {
     "name": "stderr",
     "output_type": "stream",
     "text": [
      "C:\\Users\\Eigenaar\\Anaconda2\\lib\\site-packages\\sklearn\\grid_search.py:43: DeprecationWarning: This module was deprecated in version 0.18 in favor of the model_selection module into which all the refactored classes and functions are moved. This module will be removed in 0.20.\n",
      "  DeprecationWarning)\n"
     ]
    }
   ],
   "source": [
    "from sklearn.grid_search import GridSearchCV\n",
    "\n",
    "class CharFeatureGenerator(BaseEstimator, TransformerMixin):\n",
    "    def __init__(self, tokens=None, ignorecase=False):\n",
    "        self.tokens = tokens\n",
    "        self.ignorecase = ignorecase\n",
    "    def fit(self, X, y=None, **fit_params):\n",
    "        return self\n",
    "    def transform(self, X, **transform_params):\n",
    "        values = X.str.lower() if self.ignorecase else X\n",
    "        return np.vstack([values.str.count(token).astype(float) for token in self.tokens]).T\n",
    "    def get_params(self, deep=True):\n",
    "        return {\"tokens\": self.tokens, \"ignorecase\": self.ignorecase}\n",
    "    def set_params(self, **parameters):\n",
    "        if \"tokens\" in parameters: self.tokens = parameters[\"tokens\"]\n",
    "        if \"ignorecase\" in parameters: self.ignorecase = parameters[\"ignorecase\"]\n",
    "        return self\n",
    "    \n",
    "X = df.txt\n",
    "y = le.fit_transform(df.lang.values)\n",
    "\n",
    "pl = Pipeline([\n",
    "    ('tfg', CharFeatureGenerator()),\n",
    "    ('ss', Normalizer()),\n",
    "    ('clf', LogisticRegression())\n",
    "])\n",
    "\n",
    "params = {\n",
    "    \"tfg__tokens\": [list(string.ascii_lowercase)[:i] for i in range(1, 26, 2)],\n",
    "    \"tfg__ignorecase\": [True, False]\n",
    "}\n",
    "\n",
    "estimator = GridSearchCV(pl, params, cv=3, n_jobs=6)\n",
    "estimator.fit(X, y);"
   ]
  },
  {
   "cell_type": "code",
   "execution_count": 42,
   "metadata": {
    "collapsed": false,
    "slideshow": {
     "slide_type": "subslide"
    }
   },
   "outputs": [
    {
     "data": {
      "text/html": [
       "<div>\n",
       "<table border=\"1\" class=\"dataframe\">\n",
       "  <thead>\n",
       "    <tr style=\"text-align: right;\">\n",
       "      <th></th>\n",
       "      <th>parameters</th>\n",
       "      <th>mean_validation_score</th>\n",
       "      <th>cv_validation_scores</th>\n",
       "    </tr>\n",
       "  </thead>\n",
       "  <tbody>\n",
       "    <tr>\n",
       "      <th>3</th>\n",
       "      <td>{'tfg__tokens': ['a', 'b', 'c', 'd', 'e', 'f', 'g'], 'tfg__ignorecase': True}</td>\n",
       "      <td>0.689267</td>\n",
       "      <td>[0.68776244751, 0.693469346935, 0.686568656866]</td>\n",
       "    </tr>\n",
       "    <tr>\n",
       "      <th>22</th>\n",
       "      <td>{'tfg__tokens': ['a', 'b', 'c', 'd', 'e', 'f', 'g', 'h', 'i', 'j', 'k', 'l', 'm', 'n', 'o', 'p', 'q', 'r', 's'], 'tfg__ignorecase': False}</td>\n",
       "      <td>0.899900</td>\n",
       "      <td>[0.901219756049, 0.899789978998, 0.898689868987]</td>\n",
       "    </tr>\n",
       "    <tr>\n",
       "      <th>5</th>\n",
       "      <td>{'tfg__tokens': ['a', 'b', 'c', 'd', 'e', 'f', 'g', 'h', 'i', 'j', 'k'], 'tfg__ignorecase': True}</td>\n",
       "      <td>0.866200</td>\n",
       "      <td>[0.867626474705, 0.866386638664, 0.864586458646]</td>\n",
       "    </tr>\n",
       "    <tr>\n",
       "      <th>23</th>\n",
       "      <td>{'tfg__tokens': ['a', 'b', 'c', 'd', 'e', 'f', 'g', 'h', 'i', 'j', 'k', 'l', 'm', 'n', 'o', 'p', 'q', 'r', 's', 't', 'u'], 'tfg__ignorecase': False}</td>\n",
       "      <td>0.912533</td>\n",
       "      <td>[0.912617476505, 0.91499149915, 0.9099909991]</td>\n",
       "    </tr>\n",
       "  </tbody>\n",
       "</table>\n",
       "</div>"
      ],
      "text/plain": [
       "                                                                                                                                              parameters  \\\n",
       "3                                                                          {'tfg__tokens': ['a', 'b', 'c', 'd', 'e', 'f', 'g'], 'tfg__ignorecase': True}   \n",
       "22            {'tfg__tokens': ['a', 'b', 'c', 'd', 'e', 'f', 'g', 'h', 'i', 'j', 'k', 'l', 'm', 'n', 'o', 'p', 'q', 'r', 's'], 'tfg__ignorecase': False}   \n",
       "5                                                      {'tfg__tokens': ['a', 'b', 'c', 'd', 'e', 'f', 'g', 'h', 'i', 'j', 'k'], 'tfg__ignorecase': True}   \n",
       "23  {'tfg__tokens': ['a', 'b', 'c', 'd', 'e', 'f', 'g', 'h', 'i', 'j', 'k', 'l', 'm', 'n', 'o', 'p', 'q', 'r', 's', 't', 'u'], 'tfg__ignorecase': False}   \n",
       "\n",
       "    mean_validation_score                              cv_validation_scores  \n",
       "3                0.689267   [0.68776244751, 0.693469346935, 0.686568656866]  \n",
       "22               0.899900  [0.901219756049, 0.899789978998, 0.898689868987]  \n",
       "5                0.866200  [0.867626474705, 0.866386638664, 0.864586458646]  \n",
       "23               0.912533     [0.912617476505, 0.91499149915, 0.9099909991]  "
      ]
     },
     "execution_count": 42,
     "metadata": {},
     "output_type": "execute_result"
    }
   ],
   "source": [
    "scores = pd.DataFrame(estimator.grid_scores_)\n",
    "scores.sample(4)"
   ]
  },
  {
   "cell_type": "code",
   "execution_count": 43,
   "metadata": {
    "collapsed": false,
    "slideshow": {
     "slide_type": "subslide"
    }
   },
   "outputs": [
    {
     "data": {
      "text/html": [
       "<div>\n",
       "<table border=\"1\" class=\"dataframe\">\n",
       "  <thead>\n",
       "    <tr style=\"text-align: right;\">\n",
       "      <th></th>\n",
       "      <th>parameters</th>\n",
       "      <th>mean_validation_score</th>\n",
       "      <th>cv_validation_scores</th>\n",
       "    </tr>\n",
       "  </thead>\n",
       "  <tbody>\n",
       "    <tr>\n",
       "      <th>0</th>\n",
       "      <td>{'tfg__tokens': ['a'], 'tfg__ignorecase': True}</td>\n",
       "      <td>0.340933</td>\n",
       "      <td>[0.341631673665, 0.339333933393, 0.341834183418]</td>\n",
       "    </tr>\n",
       "    <tr>\n",
       "      <th>1</th>\n",
       "      <td>{'tfg__tokens': ['a', 'b', 'c'], 'tfg__ignorecase': True}</td>\n",
       "      <td>0.510567</td>\n",
       "      <td>[0.50899820036, 0.515751575158, 0.50695069507]</td>\n",
       "    </tr>\n",
       "    <tr>\n",
       "      <th>2</th>\n",
       "      <td>{'tfg__tokens': ['a', 'b', 'c', 'd', 'e'], 'tfg__ignorecase': True}</td>\n",
       "      <td>0.597133</td>\n",
       "      <td>[0.596680663867, 0.603260326033, 0.591459145915]</td>\n",
       "    </tr>\n",
       "    <tr>\n",
       "      <th>3</th>\n",
       "      <td>{'tfg__tokens': ['a', 'b', 'c', 'd', 'e', 'f', 'g'], 'tfg__ignorecase': True}</td>\n",
       "      <td>0.689267</td>\n",
       "      <td>[0.68776244751, 0.693469346935, 0.686568656866]</td>\n",
       "    </tr>\n",
       "    <tr>\n",
       "      <th>4</th>\n",
       "      <td>{'tfg__tokens': ['a', 'b', 'c', 'd', 'e', 'f', 'g', 'h', 'i'], 'tfg__ignorecase': True}</td>\n",
       "      <td>0.812900</td>\n",
       "      <td>[0.815836832633, 0.815281528153, 0.807580758076]</td>\n",
       "    </tr>\n",
       "  </tbody>\n",
       "</table>\n",
       "</div>"
      ],
      "text/plain": [
       "                                                                                parameters  \\\n",
       "0                                          {'tfg__tokens': ['a'], 'tfg__ignorecase': True}   \n",
       "1                                {'tfg__tokens': ['a', 'b', 'c'], 'tfg__ignorecase': True}   \n",
       "2                      {'tfg__tokens': ['a', 'b', 'c', 'd', 'e'], 'tfg__ignorecase': True}   \n",
       "3            {'tfg__tokens': ['a', 'b', 'c', 'd', 'e', 'f', 'g'], 'tfg__ignorecase': True}   \n",
       "4  {'tfg__tokens': ['a', 'b', 'c', 'd', 'e', 'f', 'g', 'h', 'i'], 'tfg__ignorecase': True}   \n",
       "\n",
       "   mean_validation_score                              cv_validation_scores  \n",
       "0               0.340933  [0.341631673665, 0.339333933393, 0.341834183418]  \n",
       "1               0.510567    [0.50899820036, 0.515751575158, 0.50695069507]  \n",
       "2               0.597133  [0.596680663867, 0.603260326033, 0.591459145915]  \n",
       "3               0.689267   [0.68776244751, 0.693469346935, 0.686568656866]  \n",
       "4               0.812900  [0.815836832633, 0.815281528153, 0.807580758076]  "
      ]
     },
     "execution_count": 43,
     "metadata": {},
     "output_type": "execute_result"
    }
   ],
   "source": [
    "scores.head()"
   ]
  },
  {
   "cell_type": "code",
   "execution_count": 44,
   "metadata": {
    "collapsed": false,
    "slideshow": {
     "slide_type": "subslide"
    }
   },
   "outputs": [
    {
     "data": {
      "image/png": "[encoded data removed]",
      "text/plain": [
       "<matplotlib.figure.Figure at 0x7f4ff6b601d0>"
      ]
     },
     "metadata": {},
     "output_type": "display_data"
    }
   ],
   "source": [
    "fig = plt.figure(figsize=(8, 6))\n",
    "ax = fig.add_subplot(111)\n",
    "\n",
    "for p in params.keys():\n",
    "    scores[p] = scores.parameters.map(lambda x: x[p])\n",
    "\n",
    "for name, group in scores.groupby(scores.tfg__ignorecase):\n",
    "    group.plot(x='tfg__tokens', y='mean_validation_score', ax=ax, label=name)\n",
    "    \n",
    "plt.xticks(rotation=90);"
   ]
  }
 ],
 "metadata": {
  "anaconda-cloud": {},
  "celltoolbar": "Slideshow",
  "kernelspec": {
   "display_name": "Python 2",
   "language": "python",
   "name": "python2"
  },
  "language_info": {
   "codemirror_mode": {
    "name": "ipython",
    "version": 2
   },
   "file_extension": ".py",
   "mimetype": "text/x-python",
   "name": "python",
   "nbconvert_exporter": "python",
   "pygments_lexer": "ipython2",
   "version": "2.7.13"
  }
 },
 "nbformat": 4,
 "nbformat_minor": 0
}
